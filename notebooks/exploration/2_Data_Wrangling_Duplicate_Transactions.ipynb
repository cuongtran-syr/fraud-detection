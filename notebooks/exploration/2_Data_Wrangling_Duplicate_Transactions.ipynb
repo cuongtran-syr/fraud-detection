{
  "nbformat": 4,
  "nbformat_minor": 0,
  "metadata": {
    "colab": {
      "name": "2_Data Wrangling_Duplicate_Transactions.ipynb",
      "provenance": [],
      "collapsed_sections": []
    },
    "kernelspec": {
      "name": "python3",
      "display_name": "Python 3"
    }
  },
  "cells": [
    {
      "cell_type": "code",
      "metadata": {
        "colab": {
          "base_uri": "https://localhost:8080/"
        },
        "id": "7F74gH7aLxT7",
        "outputId": "5eb04b6a-5e0b-4d94-9d9a-881110054389"
      },
      "source": [
        "import pandas as pd\n",
        "import numpy as np \n",
        "import matplotlib.pyplot as plt\n",
        "import xgboost as xgb\n",
        "import numpy as np\n",
        "import os \n",
        "from pathlib import Path\n",
        "import pickle \n",
        "import pandas as pd\n",
        "from sklearn.metrics import roc_auc_score\n",
        "import datetime\n",
        "import warnings\n",
        "warnings.filterwarnings('ignore')\n",
        "\n",
        "from google.colab import drive\n",
        "drive.mount('/content/drive')\n",
        "\n",
        "WORK_PATH = \"/content/drive/My Drive/research/internship/fraud-detection\"\n",
        "%cd /content/drive/My Drive/research/internship/fraud-detection/\n",
        "\n",
        "# Load processed Dataset which unnessary columns are deleted \n",
        "# the processed data has the same number of rows, but with smaller number of columns\n",
        "pd00 = pd.read_csv(WORK_PATH + \"/data/processed_data.csv\")\n",
        "print(pd00.shape)\n",
        "\n"
      ],
      "execution_count": 17,
      "outputs": [
        {
          "output_type": "stream",
          "text": [
            "Drive already mounted at /content/drive; to attempt to forcibly remount, call drive.mount(\"/content/drive\", force_remount=True).\n",
            "/content/drive/My Drive/research/internship/fraud-detection\n",
            "(786363, 26)\n"
          ],
          "name": "stdout"
        }
      ]
    },
    {
      "cell_type": "code",
      "metadata": {
        "colab": {
          "base_uri": "https://localhost:8080/"
        },
        "id": "jWahiD32OHTl",
        "outputId": "16cab27a-895d-4f4d-fa57-820a8bc08095"
      },
      "source": [
        "print( pd00.columns.tolist())"
      ],
      "execution_count": 18,
      "outputs": [
        {
          "output_type": "stream",
          "text": [
            "['accountNumber', 'customerId', 'creditLimit', 'availableMoney', 'transactionDateTime', 'transactionAmount', 'merchantName', 'posEntryMode', 'posConditionCode', 'merchantCategoryCode', 'currentExpDate', 'accountOpenDate', 'dateOfLastAddressChange', 'cardCVV', 'enteredCVV', 'cardLast4Digits', 'transactionType', 'currentBalance', 'cardPresent', 'isFraud', 'date', 'tvt_code_0', 'tvt_code_1', 'tvt_code_2', 'tvt_code_3', 'tvt_code_4']\n"
          ],
          "name": "stdout"
        }
      ]
    },
    {
      "cell_type": "markdown",
      "metadata": {
        "id": "3gHzrjcSMdCi"
      },
      "source": [
        "***I. Identify reversed transactions***"
      ]
    },
    {
      "cell_type": "code",
      "metadata": {
        "colab": {
          "base_uri": "https://localhost:8080/"
        },
        "id": "NHfOrsLzMjtm",
        "outputId": "dbd68bf9-0a96-476e-8cf7-21d04402303e"
      },
      "source": [
        "main_cols = ['accountNumber','transactionDateTime', 'merchantName','transactionAmount','transactionType','currentBalance', 'creditLimit','cardPresent'] \n",
        "pd00 = pd00.sort_values( by = ['accountNumber','transactionDateTime'])[main_cols]\n",
        "pd01 = pd00[(pd00['transactionType'] =='REVERSAL') & (pd00['transactionType'].shift(-1) == \"PURCHASE\")]\n",
        "pd01.shape"
      ],
      "execution_count": 4,
      "outputs": [
        {
          "output_type": "execute_result",
          "data": {
            "text/plain": [
              "(19382, 8)"
            ]
          },
          "metadata": {
            "tags": []
          },
          "execution_count": 4
        }
      ]
    },
    {
      "cell_type": "code",
      "metadata": {
        "colab": {
          "base_uri": "https://localhost:8080/",
          "height": 173
        },
        "id": "zayoesfYNEZb",
        "outputId": "f7a3aa20-c28c-4514-bea2-b59ff04ae7dc"
      },
      "source": [
        "pd01.head(4)"
      ],
      "execution_count": 5,
      "outputs": [
        {
          "output_type": "execute_result",
          "data": {
            "text/html": [
              "<div>\n",
              "<style scoped>\n",
              "    .dataframe tbody tr th:only-of-type {\n",
              "        vertical-align: middle;\n",
              "    }\n",
              "\n",
              "    .dataframe tbody tr th {\n",
              "        vertical-align: top;\n",
              "    }\n",
              "\n",
              "    .dataframe thead th {\n",
              "        text-align: right;\n",
              "    }\n",
              "</style>\n",
              "<table border=\"1\" class=\"dataframe\">\n",
              "  <thead>\n",
              "    <tr style=\"text-align: right;\">\n",
              "      <th></th>\n",
              "      <th>accountNumber</th>\n",
              "      <th>transactionDateTime</th>\n",
              "      <th>merchantName</th>\n",
              "      <th>transactionAmount</th>\n",
              "      <th>transactionType</th>\n",
              "      <th>currentBalance</th>\n",
              "      <th>creditLimit</th>\n",
              "      <th>cardPresent</th>\n",
              "    </tr>\n",
              "  </thead>\n",
              "  <tbody>\n",
              "    <tr>\n",
              "      <th>541964</th>\n",
              "      <td>100088067</td>\n",
              "      <td>2016-11-20T08:00:04</td>\n",
              "      <td>AMC #79863</td>\n",
              "      <td>22.32</td>\n",
              "      <td>REVERSAL</td>\n",
              "      <td>188.12</td>\n",
              "      <td>50000</td>\n",
              "      <td>True</td>\n",
              "    </tr>\n",
              "    <tr>\n",
              "      <th>87920</th>\n",
              "      <td>100328049</td>\n",
              "      <td>2016-01-15T20:36:18</td>\n",
              "      <td>Lyft</td>\n",
              "      <td>43.74</td>\n",
              "      <td>REVERSAL</td>\n",
              "      <td>394.90</td>\n",
              "      <td>5000</td>\n",
              "      <td>False</td>\n",
              "    </tr>\n",
              "    <tr>\n",
              "      <th>87936</th>\n",
              "      <td>100328049</td>\n",
              "      <td>2016-03-26T17:35:09</td>\n",
              "      <td>McDonalds #423357</td>\n",
              "      <td>284.97</td>\n",
              "      <td>REVERSAL</td>\n",
              "      <td>1207.91</td>\n",
              "      <td>5000</td>\n",
              "      <td>True</td>\n",
              "    </tr>\n",
              "    <tr>\n",
              "      <th>151499</th>\n",
              "      <td>100737756</td>\n",
              "      <td>2016-06-06T22:56:52</td>\n",
              "      <td>34th BBQ #436606</td>\n",
              "      <td>93.67</td>\n",
              "      <td>REVERSAL</td>\n",
              "      <td>130.49</td>\n",
              "      <td>250</td>\n",
              "      <td>True</td>\n",
              "    </tr>\n",
              "  </tbody>\n",
              "</table>\n",
              "</div>"
            ],
            "text/plain": [
              "        accountNumber  transactionDateTime  ... creditLimit  cardPresent\n",
              "541964      100088067  2016-11-20T08:00:04  ...       50000         True\n",
              "87920       100328049  2016-01-15T20:36:18  ...        5000        False\n",
              "87936       100328049  2016-03-26T17:35:09  ...        5000         True\n",
              "151499      100737756  2016-06-06T22:56:52  ...         250         True\n",
              "\n",
              "[4 rows x 8 columns]"
            ]
          },
          "metadata": {
            "tags": []
          },
          "execution_count": 5
        }
      ]
    },
    {
      "cell_type": "code",
      "metadata": {
        "colab": {
          "base_uri": "https://localhost:8080/"
        },
        "id": "r8SQ0etGNFMZ",
        "outputId": "32f2e6cf-fadd-460b-e90a-c287b4b81bda"
      },
      "source": [
        "# Total number of reversed transaction on this dataset is around 19382\n",
        "# Total Amount money of these transactions is:\n",
        "pd01['transactionAmount'].sum()\n"
      ],
      "execution_count": 6,
      "outputs": [
        {
          "output_type": "execute_result",
          "data": {
            "text/plain": [
              "2693577.98"
            ]
          },
          "metadata": {
            "tags": []
          },
          "execution_count": 6
        }
      ]
    },
    {
      "cell_type": "code",
      "metadata": {
        "colab": {
          "base_uri": "https://localhost:8080/"
        },
        "id": "j_mhS-emNwwq",
        "outputId": "4d122681-c563-46fa-a19d-c23961923948"
      },
      "source": [
        "print(np.percentile( pd00['transactionAmount'].values, [25, 50, 75]))\n",
        "print(np.percentile( pd01['transactionAmount'].values, [25, 50, 75]))"
      ],
      "execution_count": 7,
      "outputs": [
        {
          "output_type": "stream",
          "text": [
            "[ 33.65  87.9  191.48]\n",
            "[ 33.5225  92.025  193.29  ]\n"
          ],
          "name": "stdout"
        }
      ]
    },
    {
      "cell_type": "code",
      "metadata": {
        "colab": {
          "base_uri": "https://localhost:8080/"
        },
        "id": "AQHTcg1CN09T",
        "outputId": "6aabfb09-fcf6-44d1-ebf3-345387b0a183"
      },
      "source": [
        "print(np.percentile( pd00['creditLimit'].values, [25, 50, 75]))\n",
        "print(np.percentile( pd01['creditLimit'].values, [25, 50, 75]))"
      ],
      "execution_count": 8,
      "outputs": [
        {
          "output_type": "stream",
          "text": [
            "[ 5000.  7500. 15000.]\n",
            "[ 5000.  7500. 15000.]\n"
          ],
          "name": "stdout"
        }
      ]
    },
    {
      "cell_type": "code",
      "metadata": {
        "colab": {
          "base_uri": "https://localhost:8080/"
        },
        "id": "NAG7z_fMOZ4g",
        "outputId": "38c48a75-ee0a-4ca2-de35-317c39def8d7"
      },
      "source": [
        "print(np.percentile( pd00['currentBalance'].values, [25, 50, 75]))\n",
        "print(np.percentile( pd01['currentBalance'].values, [25, 50, 75]))"
      ],
      "execution_count": 9,
      "outputs": [
        {
          "output_type": "stream",
          "text": [
            "[ 689.91  2451.76  5291.095]\n",
            "[ 885.7625 2807.615  5823.7975]\n"
          ],
          "name": "stdout"
        }
      ]
    },
    {
      "cell_type": "code",
      "metadata": {
        "colab": {
          "base_uri": "https://localhost:8080/"
        },
        "id": "QfOZiuAAOgT0",
        "outputId": "37288119-a71e-4b3b-e153-e2582e105126"
      },
      "source": [
        "pd01['merchantName'].value_counts(normalize=True)"
      ],
      "execution_count": 10,
      "outputs": [
        {
          "output_type": "execute_result",
          "data": {
            "text/plain": [
              "Lyft                      0.034155\n",
              "Uber                      0.034104\n",
              "alibaba.com               0.024456\n",
              "oldnavy.com               0.024095\n",
              "ebay.com                  0.024043\n",
              "                            ...   \n",
              "CVS #923193               0.000052\n",
              "WSC #697470               0.000052\n",
              "Taco Bell #631524         0.000052\n",
              "Planet Fitness #835799    0.000052\n",
              "Hardee's #533765          0.000052\n",
              "Name: merchantName, Length: 1903, dtype: float64"
            ]
          },
          "metadata": {
            "tags": []
          },
          "execution_count": 10
        }
      ]
    },
    {
      "cell_type": "code",
      "metadata": {
        "colab": {
          "base_uri": "https://localhost:8080/"
        },
        "id": "I7-3pkC8O_8x",
        "outputId": "ddf4b6f0-8cd5-4176-fbf5-336460963b34"
      },
      "source": [
        "pd00['merchantName'].value_counts(normalize=True)"
      ],
      "execution_count": 11,
      "outputs": [
        {
          "output_type": "execute_result",
          "data": {
            "text/plain": [
              "Uber                        0.032571\n",
              "Lyft                        0.032457\n",
              "oldnavy.com                 0.021608\n",
              "staples.com                 0.021593\n",
              "alibaba.com                 0.021566\n",
              "                              ...   \n",
              "Golds Gym #956354           0.000003\n",
              "Boost Mobile #104815        0.000003\n",
              "TMobile Wireless #602341    0.000001\n",
              "EZ Wireless #149871         0.000001\n",
              "Curves #849125              0.000001\n",
              "Name: merchantName, Length: 2490, dtype: float64"
            ]
          },
          "metadata": {
            "tags": []
          },
          "execution_count": 11
        }
      ]
    },
    {
      "cell_type": "code",
      "metadata": {
        "id": "lSstpiGbPBUc"
      },
      "source": [
        "# It seems the reversed transaction and normal transaction looks quite similar except Balance column\n"
      ],
      "execution_count": 19,
      "outputs": []
    },
    {
      "cell_type": "markdown",
      "metadata": {
        "id": "RatCEin1P3mf"
      },
      "source": [
        "**II. Identify Multi-swipe transactions**"
      ]
    },
    {
      "cell_type": "code",
      "metadata": {
        "colab": {
          "base_uri": "https://localhost:8080/"
        },
        "id": "rFZzwbeAQvn9",
        "outputId": "ac700ccf-f111-4305-9e2b-7ccb14c35a91"
      },
      "source": [
        "# Extract date, time, hour first\n",
        "def get_second_in_year(trans_date):\n",
        "    \"\"\"\n",
        "    get_second number based on date\n",
        "    return an integer number between 0 and 3600*24*365\n",
        "    \n",
        "    \"\"\"\n",
        "    ymd = trans_date.split(\"T\")[0]\n",
        "    hour = trans_date.split(\"T\")[1].split(\":\")[0]\n",
        "    min =  trans_date.split(\"T\")[1].split(\":\")[1]\n",
        "    second = trans_date.split(\"T\")[1].split(\":\")[1]\n",
        "    y,m,d  = ymd.split(\"-\")\n",
        "    start_time = datetime.datetime(2016,1,1,0,0,0)\n",
        "    end_time = datetime.datetime(int(y), int(m),int(d),int(hour), int(min), int(second))\n",
        "    \n",
        "    return abs(start_time - end_time).total_seconds() \n",
        "\n",
        "\n",
        "pd00['date'] = pd00['transactionDateTime'].apply(lambda x: x.split(\"T\")[0]).astype(str)\n",
        "pd00['year'] = pd00['date'].apply(lambda x: str(x).split(\"-\")[0])\n",
        "pd00['month'] = pd00['date'].apply(lambda x: str(x).split(\"-\")[1])\n",
        "pd00['day'] = pd00['date'].apply(lambda x: str(x).split(\"-\")[2])\n",
        "pd00['time'] = pd00['transactionDateTime'].apply(lambda x: x.split(\"T\")[1]).astype(str)\n",
        "pd00['hour'] = pd00['time'].apply(lambda x: x.split(\":\")[0])\n",
        "pd00['second_in_year'] = pd00['transactionDateTime'].apply(get_second_in_year)\n",
        "pd00['enter_correct'] = (pd00['cardCVV'] == pd00['enteredCVV']).astype(int)\n",
        "pd00['enter_correct'].value_counts(normalize = True)"
      ],
      "execution_count": 31,
      "outputs": [
        {
          "output_type": "execute_result",
          "data": {
            "text/plain": [
              "1    0.991079\n",
              "0    0.008921\n",
              "Name: enter_correct, dtype: float64"
            ]
          },
          "metadata": {
            "tags": []
          },
          "execution_count": 31
        }
      ]
    },
    {
      "cell_type": "code",
      "metadata": {
        "colab": {
          "base_uri": "https://localhost:8080/",
          "height": 309
        },
        "id": "2ESk7M7cQCnT",
        "outputId": "c829f893-d7fa-40d4-f8aa-4179bddd28c2"
      },
      "source": [
        "sub_cols = ['accountNumber', 'merchantName','transactionAmount','date', 'hour']\n",
        "# Intuition multi-swipe transactions will have same account number, merchantNamt, transaction amount, date and hour\n",
        "# we first identiy set  of rows of the same these values \n",
        "pd02 = pd00[pd00.duplicated(sub_cols, keep = False)]\n",
        "pd02.head(5)"
      ],
      "execution_count": 33,
      "outputs": [
        {
          "output_type": "execute_result",
          "data": {
            "text/html": [
              "<div>\n",
              "<style scoped>\n",
              "    .dataframe tbody tr th:only-of-type {\n",
              "        vertical-align: middle;\n",
              "    }\n",
              "\n",
              "    .dataframe tbody tr th {\n",
              "        vertical-align: top;\n",
              "    }\n",
              "\n",
              "    .dataframe thead th {\n",
              "        text-align: right;\n",
              "    }\n",
              "</style>\n",
              "<table border=\"1\" class=\"dataframe\">\n",
              "  <thead>\n",
              "    <tr style=\"text-align: right;\">\n",
              "      <th></th>\n",
              "      <th>accountNumber</th>\n",
              "      <th>customerId</th>\n",
              "      <th>creditLimit</th>\n",
              "      <th>availableMoney</th>\n",
              "      <th>transactionDateTime</th>\n",
              "      <th>transactionAmount</th>\n",
              "      <th>merchantName</th>\n",
              "      <th>posEntryMode</th>\n",
              "      <th>posConditionCode</th>\n",
              "      <th>merchantCategoryCode</th>\n",
              "      <th>currentExpDate</th>\n",
              "      <th>accountOpenDate</th>\n",
              "      <th>dateOfLastAddressChange</th>\n",
              "      <th>cardCVV</th>\n",
              "      <th>enteredCVV</th>\n",
              "      <th>cardLast4Digits</th>\n",
              "      <th>transactionType</th>\n",
              "      <th>currentBalance</th>\n",
              "      <th>cardPresent</th>\n",
              "      <th>isFraud</th>\n",
              "      <th>date</th>\n",
              "      <th>tvt_code_0</th>\n",
              "      <th>tvt_code_1</th>\n",
              "      <th>tvt_code_2</th>\n",
              "      <th>tvt_code_3</th>\n",
              "      <th>tvt_code_4</th>\n",
              "      <th>year</th>\n",
              "      <th>month</th>\n",
              "      <th>day</th>\n",
              "      <th>time</th>\n",
              "      <th>hour</th>\n",
              "      <th>second_in_year</th>\n",
              "      <th>enter_correct</th>\n",
              "    </tr>\n",
              "  </thead>\n",
              "  <tbody>\n",
              "    <tr>\n",
              "      <th>38</th>\n",
              "      <td>574788567</td>\n",
              "      <td>574788567</td>\n",
              "      <td>2500</td>\n",
              "      <td>2416.11</td>\n",
              "      <td>2016-05-24T01:35:33</td>\n",
              "      <td>215.13</td>\n",
              "      <td>Convenient Tire</td>\n",
              "      <td>9.0</td>\n",
              "      <td>1.0</td>\n",
              "      <td>auto</td>\n",
              "      <td>10/2021</td>\n",
              "      <td>2015-10-13</td>\n",
              "      <td>2015-10-13</td>\n",
              "      <td>206</td>\n",
              "      <td>206</td>\n",
              "      <td>8522</td>\n",
              "      <td>PURCHASE</td>\n",
              "      <td>83.89</td>\n",
              "      <td>True</td>\n",
              "      <td>0</td>\n",
              "      <td>2016-05-24</td>\n",
              "      <td>train</td>\n",
              "      <td>train</td>\n",
              "      <td>val</td>\n",
              "      <td>train</td>\n",
              "      <td>val</td>\n",
              "      <td>2016</td>\n",
              "      <td>05</td>\n",
              "      <td>24</td>\n",
              "      <td>01:35:33</td>\n",
              "      <td>01</td>\n",
              "      <td>12447335.0</td>\n",
              "      <td>1</td>\n",
              "    </tr>\n",
              "    <tr>\n",
              "      <th>39</th>\n",
              "      <td>574788567</td>\n",
              "      <td>574788567</td>\n",
              "      <td>2500</td>\n",
              "      <td>2200.98</td>\n",
              "      <td>2016-05-24T01:38:03</td>\n",
              "      <td>215.13</td>\n",
              "      <td>Convenient Tire</td>\n",
              "      <td>9.0</td>\n",
              "      <td>1.0</td>\n",
              "      <td>auto</td>\n",
              "      <td>10/2021</td>\n",
              "      <td>2015-10-13</td>\n",
              "      <td>2015-10-13</td>\n",
              "      <td>206</td>\n",
              "      <td>206</td>\n",
              "      <td>8522</td>\n",
              "      <td>REVERSAL</td>\n",
              "      <td>299.02</td>\n",
              "      <td>True</td>\n",
              "      <td>0</td>\n",
              "      <td>2016-05-24</td>\n",
              "      <td>train</td>\n",
              "      <td>train</td>\n",
              "      <td>train</td>\n",
              "      <td>train</td>\n",
              "      <td>val</td>\n",
              "      <td>2016</td>\n",
              "      <td>05</td>\n",
              "      <td>24</td>\n",
              "      <td>01:38:03</td>\n",
              "      <td>01</td>\n",
              "      <td>12447518.0</td>\n",
              "      <td>1</td>\n",
              "    </tr>\n",
              "    <tr>\n",
              "      <th>132</th>\n",
              "      <td>984504651</td>\n",
              "      <td>984504651</td>\n",
              "      <td>50000</td>\n",
              "      <td>46818.15</td>\n",
              "      <td>2016-01-16T09:52:30</td>\n",
              "      <td>450.74</td>\n",
              "      <td>Planet Fitness #849960</td>\n",
              "      <td>5.0</td>\n",
              "      <td>1.0</td>\n",
              "      <td>health</td>\n",
              "      <td>08/2028</td>\n",
              "      <td>2015-07-27</td>\n",
              "      <td>2015-07-27</td>\n",
              "      <td>640</td>\n",
              "      <td>640</td>\n",
              "      <td>8332</td>\n",
              "      <td>PURCHASE</td>\n",
              "      <td>3181.85</td>\n",
              "      <td>False</td>\n",
              "      <td>0</td>\n",
              "      <td>2016-01-16</td>\n",
              "      <td>train</td>\n",
              "      <td>train</td>\n",
              "      <td>train</td>\n",
              "      <td>train</td>\n",
              "      <td>train</td>\n",
              "      <td>2016</td>\n",
              "      <td>01</td>\n",
              "      <td>16</td>\n",
              "      <td>09:52:30</td>\n",
              "      <td>09</td>\n",
              "      <td>1331572.0</td>\n",
              "      <td>1</td>\n",
              "    </tr>\n",
              "    <tr>\n",
              "      <th>133</th>\n",
              "      <td>984504651</td>\n",
              "      <td>984504651</td>\n",
              "      <td>50000</td>\n",
              "      <td>46367.41</td>\n",
              "      <td>2016-01-16T09:53:15</td>\n",
              "      <td>450.74</td>\n",
              "      <td>Planet Fitness #849960</td>\n",
              "      <td>5.0</td>\n",
              "      <td>1.0</td>\n",
              "      <td>health</td>\n",
              "      <td>08/2028</td>\n",
              "      <td>2015-07-27</td>\n",
              "      <td>2015-07-27</td>\n",
              "      <td>640</td>\n",
              "      <td>640</td>\n",
              "      <td>8332</td>\n",
              "      <td>REVERSAL</td>\n",
              "      <td>3632.59</td>\n",
              "      <td>False</td>\n",
              "      <td>0</td>\n",
              "      <td>2016-01-16</td>\n",
              "      <td>train</td>\n",
              "      <td>train</td>\n",
              "      <td>val</td>\n",
              "      <td>train</td>\n",
              "      <td>train</td>\n",
              "      <td>2016</td>\n",
              "      <td>01</td>\n",
              "      <td>16</td>\n",
              "      <td>09:53:15</td>\n",
              "      <td>09</td>\n",
              "      <td>1331633.0</td>\n",
              "      <td>1</td>\n",
              "    </tr>\n",
              "    <tr>\n",
              "      <th>199</th>\n",
              "      <td>984504651</td>\n",
              "      <td>984504651</td>\n",
              "      <td>50000</td>\n",
              "      <td>36487.41</td>\n",
              "      <td>2016-02-12T05:08:23</td>\n",
              "      <td>34.92</td>\n",
              "      <td>Golds Gym #747443</td>\n",
              "      <td>9.0</td>\n",
              "      <td>1.0</td>\n",
              "      <td>health</td>\n",
              "      <td>03/2028</td>\n",
              "      <td>2015-07-27</td>\n",
              "      <td>2015-07-27</td>\n",
              "      <td>640</td>\n",
              "      <td>640</td>\n",
              "      <td>8332</td>\n",
              "      <td>PURCHASE</td>\n",
              "      <td>13512.59</td>\n",
              "      <td>False</td>\n",
              "      <td>0</td>\n",
              "      <td>2016-02-12</td>\n",
              "      <td>train</td>\n",
              "      <td>train</td>\n",
              "      <td>train</td>\n",
              "      <td>val</td>\n",
              "      <td>train</td>\n",
              "      <td>2016</td>\n",
              "      <td>02</td>\n",
              "      <td>12</td>\n",
              "      <td>05:08:23</td>\n",
              "      <td>05</td>\n",
              "      <td>3647288.0</td>\n",
              "      <td>1</td>\n",
              "    </tr>\n",
              "  </tbody>\n",
              "</table>\n",
              "</div>"
            ],
            "text/plain": [
              "     accountNumber  customerId  creditLimit  ...  hour second_in_year  enter_correct\n",
              "38       574788567   574788567         2500  ...    01     12447335.0              1\n",
              "39       574788567   574788567         2500  ...    01     12447518.0              1\n",
              "132      984504651   984504651        50000  ...    09      1331572.0              1\n",
              "133      984504651   984504651        50000  ...    09      1331633.0              1\n",
              "199      984504651   984504651        50000  ...    05      3647288.0              1\n",
              "\n",
              "[5 rows x 33 columns]"
            ]
          },
          "metadata": {
            "tags": []
          },
          "execution_count": 33
        }
      ]
    },
    {
      "cell_type": "code",
      "metadata": {
        "colab": {
          "base_uri": "https://localhost:8080/"
        },
        "id": "YyYkZbykV0ZN",
        "outputId": "7b16e98f-d6a6-4237-91f6-71d85549734c"
      },
      "source": [
        "pd02['merchantName'].value_counts(normalize= True)"
      ],
      "execution_count": 34,
      "outputs": [
        {
          "output_type": "execute_result",
          "data": {
            "text/plain": [
              "Uber                     0.036958\n",
              "Lyft                     0.033609\n",
              "apple.com                0.025493\n",
              "alibaba.com              0.024626\n",
              "gap.com                  0.024468\n",
              "                           ...   \n",
              "Auntie Anne's #938796    0.000079\n",
              "Powerlifting #918010     0.000079\n",
              "Walgreens #149062        0.000079\n",
              "Starbucks #102806        0.000079\n",
              "Popeyes #972423          0.000079\n",
              "Name: merchantName, Length: 1670, dtype: float64"
            ]
          },
          "metadata": {
            "tags": []
          },
          "execution_count": 34
        }
      ]
    },
    {
      "cell_type": "code",
      "metadata": {
        "colab": {
          "base_uri": "https://localhost:8080/"
        },
        "id": "d2jpd3cfV_Se",
        "outputId": "2189c58d-a307-4f77-a196-805ca6a3bf49"
      },
      "source": [
        "print(np.percentile(pd02['transactionAmount'].values, [25, 50, 75]))"
      ],
      "execution_count": 35,
      "outputs": [
        {
          "output_type": "stream",
          "text": [
            "[ 37.13   98.465 200.5  ]\n"
          ],
          "name": "stdout"
        }
      ]
    },
    {
      "cell_type": "code",
      "metadata": {
        "colab": {
          "base_uri": "https://localhost:8080/"
        },
        "id": "iUnlgBx_WJbm",
        "outputId": "c82e9f5e-1abe-4921-b714-df717d8809f3"
      },
      "source": [
        "pd02['enter_correct'].value_counts(normalize = True)"
      ],
      "execution_count": 36,
      "outputs": [
        {
          "output_type": "execute_result",
          "data": {
            "text/plain": [
              "1    0.99145\n",
              "0    0.00855\n",
              "Name: enter_correct, dtype: float64"
            ]
          },
          "metadata": {
            "tags": []
          },
          "execution_count": 36
        }
      ]
    },
    {
      "cell_type": "code",
      "metadata": {
        "colab": {
          "base_uri": "https://localhost:8080/"
        },
        "id": "jqzLr-paWRgk",
        "outputId": "63ae06b2-beac-46ff-d480-26ffa8a322b3"
      },
      "source": [
        "pd00['enter_correct'].value_counts(normalize = True)"
      ],
      "execution_count": 37,
      "outputs": [
        {
          "output_type": "execute_result",
          "data": {
            "text/plain": [
              "1    0.991079\n",
              "0    0.008921\n",
              "Name: enter_correct, dtype: float64"
            ]
          },
          "metadata": {
            "tags": []
          },
          "execution_count": 37
        }
      ]
    },
    {
      "cell_type": "code",
      "metadata": {
        "colab": {
          "base_uri": "https://localhost:8080/"
        },
        "id": "Z2epJGCwXWy4",
        "outputId": "a62bec07-481e-49e2-ecda-96f901ddf1ab"
      },
      "source": [
        "pd02['month'].value_counts(normalize = True)"
      ],
      "execution_count": 42,
      "outputs": [
        {
          "output_type": "execute_result",
          "data": {
            "text/plain": [
              "08    0.088652\n",
              "10    0.086682\n",
              "05    0.086013\n",
              "01    0.085500\n",
              "07    0.085264\n",
              "11    0.085067\n",
              "03    0.084358\n",
              "12    0.082151\n",
              "09    0.081009\n",
              "04    0.080615\n",
              "06    0.077935\n",
              "02    0.076753\n",
              "Name: month, dtype: float64"
            ]
          },
          "metadata": {
            "tags": []
          },
          "execution_count": 42
        }
      ]
    },
    {
      "cell_type": "code",
      "metadata": {
        "colab": {
          "base_uri": "https://localhost:8080/"
        },
        "id": "BYrc4DRdXW2T",
        "outputId": "b3e1acb1-47cf-45f5-ffb9-c3222aa39872"
      },
      "source": [
        "pd00['month'].value_counts(normalize = True)"
      ],
      "execution_count": 43,
      "outputs": [
        {
          "output_type": "execute_result",
          "data": {
            "text/plain": [
              "10    0.088543\n",
              "12    0.087715\n",
              "08    0.086638\n",
              "11    0.086597\n",
              "07    0.085405\n",
              "09    0.084919\n",
              "05    0.083535\n",
              "06    0.082322\n",
              "03    0.081295\n",
              "04    0.079649\n",
              "01    0.078300\n",
              "02    0.075082\n",
              "Name: month, dtype: float64"
            ]
          },
          "metadata": {
            "tags": []
          },
          "execution_count": 43
        }
      ]
    },
    {
      "cell_type": "code",
      "metadata": {
        "colab": {
          "base_uri": "https://localhost:8080/"
        },
        "id": "gEGLBNkTR0Rj",
        "outputId": "09bacc11-ccca-4c63-e44d-8f50f10c9b64"
      },
      "source": [
        "# we define multi-swipe can happen at most in 300 seconds = 5 minutes\n",
        "# pd03 is \n",
        "pd03 = pd02[abs( pd02['second_in_year'] -pd02['second_in_year'].shift(1)) <300 ]\n",
        "print(pd03.shape)"
      ],
      "execution_count": 23,
      "outputs": [
        {
          "output_type": "stream",
          "text": [
            "(13392, 32)\n"
          ],
          "name": "stdout"
        }
      ]
    },
    {
      "cell_type": "code",
      "metadata": {
        "id": "RLrHH3oCR87O"
      },
      "source": [
        "pd00 = pd00.drop(pd03.index )\n",
        "print(pd00.shape)\n",
        "pd00 = pd.concat([pd00, pd03])\n",
        "print(pd00.shape)"
      ],
      "execution_count": 16,
      "outputs": []
    },
    {
      "cell_type": "code",
      "metadata": {
        "colab": {
          "base_uri": "https://localhost:8080/"
        },
        "id": "sHsNKRlDUbhn",
        "outputId": "51719021-4542-4d02-cc1a-a8de2c7b6b22"
      },
      "source": [
        "pd00.shape"
      ],
      "execution_count": 44,
      "outputs": [
        {
          "output_type": "execute_result",
          "data": {
            "text/plain": [
              "(786363, 33)"
            ]
          },
          "metadata": {
            "tags": []
          },
          "execution_count": 44
        }
      ]
    },
    {
      "cell_type": "code",
      "metadata": {
        "id": "RUIiyTXzX-cd"
      },
      "source": [
        ""
      ],
      "execution_count": null,
      "outputs": []
    }
  ]
}