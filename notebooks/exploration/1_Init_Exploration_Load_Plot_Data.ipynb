{
 "cells": [
  {
   "cell_type": "code",
   "execution_count": 22,
   "metadata": {},
   "outputs": [],
   "source": [
    "import numpy as np\n",
    "import pickle \n",
    "import pandas as pd\n",
    "import matplotlib.pyplot as plt\n",
    "import sys \n",
    "from pandas.api.types import is_string_dtype\n",
    "from pandas.api.types import is_numeric_dtype\n",
    "WORK_PATH = \"/Users/welcome/Google Drive (cuong.tranus@gmail.com)/research/internship/fraud-detection\"\n",
    "sys.path.append(\"/Users/welcome/Google Drive (cuong.tranus@gmail.com)/research/internship/fraud-detection/codes/\")\n",
    "#from utils import *"
   ]
  },
  {
   "cell_type": "code",
   "execution_count": 23,
   "metadata": {},
   "outputs": [
    {
     "name": "stdout",
     "output_type": "stream",
     "text": [
      "/Users/welcome/Google Drive (cuong.tranus@gmail.com)/research/internship/fraud-detection\n"
     ]
    }
   ],
   "source": [
    "%cd \"/Users/welcome/Google Drive (cuong.tranus@gmail.com)/research/internship/fraud-detection/\""
   ]
  },
  {
   "cell_type": "markdown",
   "metadata": {},
   "source": [
    "## 1. Question 1: Load data"
   ]
  },
  {
   "cell_type": "raw",
   "metadata": {},
   "source": [
    "1. Load the dataset\n",
    "2. Find general stats of each column (num unique, num null, max/min for numeric columns\n",
    "3. Remove uncessary columns for modeling stages (columns that have single unique value, or have one value occurs more\n",
    "   than 95% in the column"
   ]
  },
  {
   "cell_type": "code",
   "execution_count": 32,
   "metadata": {
    "scrolled": true
   },
   "outputs": [
    {
     "data": {
      "text/html": [
       "<div>\n",
       "<style scoped>\n",
       "    .dataframe tbody tr th:only-of-type {\n",
       "        vertical-align: middle;\n",
       "    }\n",
       "\n",
       "    .dataframe tbody tr th {\n",
       "        vertical-align: top;\n",
       "    }\n",
       "\n",
       "    .dataframe thead th {\n",
       "        text-align: right;\n",
       "    }\n",
       "</style>\n",
       "<table border=\"1\" class=\"dataframe\">\n",
       "  <thead>\n",
       "    <tr style=\"text-align: right;\">\n",
       "      <th></th>\n",
       "      <th>accountNumber</th>\n",
       "      <th>customerId</th>\n",
       "      <th>creditLimit</th>\n",
       "      <th>availableMoney</th>\n",
       "      <th>transactionDateTime</th>\n",
       "      <th>transactionAmount</th>\n",
       "      <th>merchantName</th>\n",
       "      <th>acqCountry</th>\n",
       "      <th>merchantCountryCode</th>\n",
       "      <th>posEntryMode</th>\n",
       "      <th>...</th>\n",
       "      <th>echoBuffer</th>\n",
       "      <th>currentBalance</th>\n",
       "      <th>merchantCity</th>\n",
       "      <th>merchantState</th>\n",
       "      <th>merchantZip</th>\n",
       "      <th>cardPresent</th>\n",
       "      <th>posOnPremises</th>\n",
       "      <th>recurringAuthInd</th>\n",
       "      <th>expirationDateKeyInMatch</th>\n",
       "      <th>isFraud</th>\n",
       "    </tr>\n",
       "  </thead>\n",
       "  <tbody>\n",
       "    <tr>\n",
       "      <th>0</th>\n",
       "      <td>737265056</td>\n",
       "      <td>737265056</td>\n",
       "      <td>5000</td>\n",
       "      <td>5000.0</td>\n",
       "      <td>2016-08-13T14:27:32</td>\n",
       "      <td>98.55</td>\n",
       "      <td>Uber</td>\n",
       "      <td>US</td>\n",
       "      <td>US</td>\n",
       "      <td>02</td>\n",
       "      <td>...</td>\n",
       "      <td></td>\n",
       "      <td>0.0</td>\n",
       "      <td></td>\n",
       "      <td></td>\n",
       "      <td></td>\n",
       "      <td>False</td>\n",
       "      <td></td>\n",
       "      <td></td>\n",
       "      <td>False</td>\n",
       "      <td>False</td>\n",
       "    </tr>\n",
       "    <tr>\n",
       "      <th>1</th>\n",
       "      <td>737265056</td>\n",
       "      <td>737265056</td>\n",
       "      <td>5000</td>\n",
       "      <td>5000.0</td>\n",
       "      <td>2016-10-11T05:05:54</td>\n",
       "      <td>74.51</td>\n",
       "      <td>AMC #191138</td>\n",
       "      <td>US</td>\n",
       "      <td>US</td>\n",
       "      <td>09</td>\n",
       "      <td>...</td>\n",
       "      <td></td>\n",
       "      <td>0.0</td>\n",
       "      <td></td>\n",
       "      <td></td>\n",
       "      <td></td>\n",
       "      <td>True</td>\n",
       "      <td></td>\n",
       "      <td></td>\n",
       "      <td>False</td>\n",
       "      <td>False</td>\n",
       "    </tr>\n",
       "    <tr>\n",
       "      <th>2</th>\n",
       "      <td>737265056</td>\n",
       "      <td>737265056</td>\n",
       "      <td>5000</td>\n",
       "      <td>5000.0</td>\n",
       "      <td>2016-11-08T09:18:39</td>\n",
       "      <td>7.47</td>\n",
       "      <td>Play Store</td>\n",
       "      <td>US</td>\n",
       "      <td>US</td>\n",
       "      <td>09</td>\n",
       "      <td>...</td>\n",
       "      <td></td>\n",
       "      <td>0.0</td>\n",
       "      <td></td>\n",
       "      <td></td>\n",
       "      <td></td>\n",
       "      <td>False</td>\n",
       "      <td></td>\n",
       "      <td></td>\n",
       "      <td>False</td>\n",
       "      <td>False</td>\n",
       "    </tr>\n",
       "  </tbody>\n",
       "</table>\n",
       "<p>3 rows × 29 columns</p>\n",
       "</div>"
      ],
      "text/plain": [
       "   accountNumber  customerId  creditLimit  availableMoney  \\\n",
       "0      737265056   737265056         5000          5000.0   \n",
       "1      737265056   737265056         5000          5000.0   \n",
       "2      737265056   737265056         5000          5000.0   \n",
       "\n",
       "   transactionDateTime  transactionAmount merchantName acqCountry  \\\n",
       "0  2016-08-13T14:27:32              98.55         Uber         US   \n",
       "1  2016-10-11T05:05:54              74.51  AMC #191138         US   \n",
       "2  2016-11-08T09:18:39               7.47   Play Store         US   \n",
       "\n",
       "  merchantCountryCode posEntryMode  ... echoBuffer currentBalance  \\\n",
       "0                  US           02  ...                       0.0   \n",
       "1                  US           09  ...                       0.0   \n",
       "2                  US           09  ...                       0.0   \n",
       "\n",
       "  merchantCity merchantState merchantZip  cardPresent  posOnPremises  \\\n",
       "0                                               False                  \n",
       "1                                                True                  \n",
       "2                                               False                  \n",
       "\n",
       "   recurringAuthInd expirationDateKeyInMatch isFraud  \n",
       "0                                      False   False  \n",
       "1                                      False   False  \n",
       "2                                      False   False  \n",
       "\n",
       "[3 rows x 29 columns]"
      ]
     },
     "execution_count": 32,
     "metadata": {},
     "output_type": "execute_result"
    }
   ],
   "source": [
    "pd00 = pd.read_json('./data/transactions.txt', lines=True)\n",
    "pd00.head(3)"
   ]
  },
  {
   "cell_type": "code",
   "execution_count": 33,
   "metadata": {},
   "outputs": [
    {
     "name": "stdout",
     "output_type": "stream",
     "text": [
      "(786363, 29)\n"
     ]
    }
   ],
   "source": [
    "print(pd00.shape)"
   ]
  },
  {
   "cell_type": "code",
   "execution_count": 34,
   "metadata": {},
   "outputs": [
    {
     "data": {
      "text/plain": [
       "accountNumber                 int64\n",
       "customerId                    int64\n",
       "creditLimit                   int64\n",
       "availableMoney              float64\n",
       "transactionDateTime          object\n",
       "transactionAmount           float64\n",
       "merchantName                 object\n",
       "acqCountry                   object\n",
       "merchantCountryCode          object\n",
       "posEntryMode                 object\n",
       "posConditionCode             object\n",
       "merchantCategoryCode         object\n",
       "currentExpDate               object\n",
       "accountOpenDate              object\n",
       "dateOfLastAddressChange      object\n",
       "cardCVV                       int64\n",
       "enteredCVV                    int64\n",
       "cardLast4Digits               int64\n",
       "transactionType              object\n",
       "echoBuffer                   object\n",
       "currentBalance              float64\n",
       "merchantCity                 object\n",
       "merchantState                object\n",
       "merchantZip                  object\n",
       "cardPresent                    bool\n",
       "posOnPremises                object\n",
       "recurringAuthInd             object\n",
       "expirationDateKeyInMatch       bool\n",
       "isFraud                        bool\n",
       "dtype: object"
      ]
     },
     "execution_count": 34,
     "metadata": {},
     "output_type": "execute_result"
    }
   ],
   "source": [
    "pd00.dtypes"
   ]
  },
  {
   "cell_type": "code",
   "execution_count": 36,
   "metadata": {},
   "outputs": [
    {
     "name": "stdout",
     "output_type": "stream",
     "text": [
      "Stats for column accountNumber\n",
      "data type = int64, num unique = 5000, num null = 0\n",
      "max = 999389635, min = 100088067\n",
      "------------------------------------------------\n",
      "Stats for column customerId\n",
      "data type = int64, num unique = 5000, num null = 0\n",
      "max = 999389635, min = 100088067\n",
      "------------------------------------------------\n",
      "Stats for column creditLimit\n",
      "data type = int64, num unique = 10, num null = 0\n",
      "max = 50000, min = 250\n",
      "------------------------------------------------\n",
      "Stats for column availableMoney\n",
      "data type = float64, num unique = 521915, num null = 0\n",
      "max = 50000.0, min = -1005.63\n",
      "------------------------------------------------\n",
      "Stats for column transactionDateTime\n",
      "data type = object, num unique = 776637, num null = 0\n",
      "------------------------------------------------\n",
      "Stats for column transactionAmount\n",
      "data type = float64, num unique = 66038, num null = 0\n",
      "max = 2011.54, min = 0.0\n",
      "------------------------------------------------\n",
      "Stats for column merchantName\n",
      "data type = object, num unique = 2490, num null = 0\n",
      "------------------------------------------------\n",
      "Stats for column acqCountry\n",
      "data type = object, num unique = 5, num null = 0\n",
      "------------------------------------------------\n",
      "Stats for column merchantCountryCode\n",
      "data type = object, num unique = 5, num null = 0\n",
      "------------------------------------------------\n",
      "Stats for column posEntryMode\n",
      "data type = object, num unique = 6, num null = 0\n",
      "------------------------------------------------\n",
      "Stats for column posConditionCode\n",
      "data type = object, num unique = 4, num null = 0\n",
      "------------------------------------------------\n",
      "Stats for column merchantCategoryCode\n",
      "data type = object, num unique = 19, num null = 0\n",
      "------------------------------------------------\n",
      "Stats for column currentExpDate\n",
      "data type = object, num unique = 165, num null = 0\n",
      "------------------------------------------------\n",
      "Stats for column accountOpenDate\n",
      "data type = object, num unique = 1820, num null = 0\n",
      "------------------------------------------------\n",
      "Stats for column dateOfLastAddressChange\n",
      "data type = object, num unique = 2184, num null = 0\n",
      "------------------------------------------------\n",
      "Stats for column cardCVV\n",
      "data type = int64, num unique = 899, num null = 0\n",
      "max = 998, min = 100\n",
      "------------------------------------------------\n",
      "Stats for column enteredCVV\n",
      "data type = int64, num unique = 976, num null = 0\n",
      "max = 998, min = 0\n",
      "------------------------------------------------\n",
      "Stats for column cardLast4Digits\n",
      "data type = int64, num unique = 5245, num null = 0\n",
      "max = 9998, min = 0\n",
      "------------------------------------------------\n",
      "Stats for column transactionType\n",
      "data type = object, num unique = 4, num null = 0\n",
      "------------------------------------------------\n",
      "Stats for column echoBuffer\n",
      "data type = object, num unique = 1, num null = 0\n",
      "------------------------------------------------\n",
      "Stats for column currentBalance\n",
      "data type = float64, num unique = 487318, num null = 0\n",
      "max = 47498.81, min = 0.0\n",
      "------------------------------------------------\n",
      "Stats for column merchantCity\n",
      "data type = object, num unique = 1, num null = 0\n",
      "------------------------------------------------\n",
      "Stats for column merchantState\n",
      "data type = object, num unique = 1, num null = 0\n",
      "------------------------------------------------\n",
      "Stats for column merchantZip\n",
      "data type = object, num unique = 1, num null = 0\n",
      "------------------------------------------------\n",
      "Stats for column cardPresent\n",
      "data type = bool, num unique = 2, num null = 0\n",
      "max = True, min = False\n",
      "------------------------------------------------\n",
      "Stats for column posOnPremises\n",
      "data type = object, num unique = 1, num null = 0\n",
      "------------------------------------------------\n",
      "Stats for column recurringAuthInd\n",
      "data type = object, num unique = 1, num null = 0\n",
      "------------------------------------------------\n",
      "Stats for column expirationDateKeyInMatch\n",
      "data type = bool, num unique = 2, num null = 0\n",
      "max = True, min = False\n",
      "------------------------------------------------\n",
      "Stats for column isFraud\n",
      "data type = bool, num unique = 2, num null = 0\n",
      "max = True, min = False\n",
      "------------------------------------------------\n"
     ]
    }
   ],
   "source": [
    "remove_cols = [] # columns will be removed for further exploration\n",
    "numeric_cols = [] # numeric columns \n",
    "cat_cols = []  # categorical columns\n",
    "\n",
    "for col in pd00.columns.tolist():\n",
    "    print(\"Stats for column {}\".format(col))\n",
    "    data_type  = pd00[col].dtype\n",
    "    num_unique = len(pd00[col].unique().tolist())\n",
    "    num_null = pd00[col].isnull().sum()\n",
    "    \n",
    "    pct_val_list = pd00[col].value_counts(normalize=True) # percentage of each unique value in col\n",
    "    \n",
    "    if ( col!='isFraud' and np.max(pct_val_list) > 0.95) or (num_unique == 1):\n",
    "        remove_cols.append(col) # also remove column when there is  either : have a value that occurs more than 95%\n",
    "                                                                            # or have a single unique value\n",
    "        \n",
    "    \n",
    "    if (col not in remove_cols) & is_string_dtype(pd00[col]):\n",
    "        cat_cols.append(col) # append categorical column to the list\n",
    "    \n",
    "    \n",
    "    print('data type = {}, num unique = {}, num null = {}'.format(data_type, num_unique, num_null))\n",
    "    if is_numeric_dtype(pd00[col]):\n",
    "        print('max = {}, min = {}'.format(pd00[col].max(), pd00[col].min()))\n",
    "        if col not in remove_cols:\n",
    "            numeric_cols.append(col)\n",
    "    \n",
    "    print('------------------------------------------------')"
   ]
  },
  {
   "cell_type": "code",
   "execution_count": 37,
   "metadata": {},
   "outputs": [
    {
     "name": "stdout",
     "output_type": "stream",
     "text": [
      "List of removed columns = ['acqCountry', 'merchantCountryCode', 'echoBuffer', 'merchantCity', 'merchantState', 'merchantZip', 'posOnPremises', 'recurringAuthInd', 'expirationDateKeyInMatch']\n",
      "--------\n",
      "List of categorical columns = ['transactionDateTime', 'merchantName', 'posEntryMode', 'posConditionCode', 'merchantCategoryCode', 'currentExpDate', 'accountOpenDate', 'dateOfLastAddressChange', 'transactionType']\n",
      "--------\n",
      "List of numeric columns = ['accountNumber', 'customerId', 'creditLimit', 'availableMoney', 'transactionAmount', 'cardCVV', 'enteredCVV', 'cardLast4Digits', 'currentBalance', 'cardPresent', 'isFraud']\n"
     ]
    }
   ],
   "source": [
    "print(\"List of removed columns = {}\".format(remove_cols))\n",
    "print(\"--------\")\n",
    "print(\"List of categorical columns = {}\".format(cat_cols))\n",
    "print(\"--------\")\n",
    "print(\"List of numeric columns = {}\".format(numeric_cols))"
   ]
  },
  {
   "cell_type": "code",
   "execution_count": 38,
   "metadata": {},
   "outputs": [
    {
     "name": "stdout",
     "output_type": "stream",
     "text": [
      "(786363, 20)\n"
     ]
    }
   ],
   "source": [
    "used_cols = [col for col in pd00.columns.tolist() if col not in remove_cols]\n",
    "pd00 = pd00[used_cols]\n",
    "print(pd00.shape)"
   ]
  },
  {
   "cell_type": "code",
   "execution_count": 39,
   "metadata": {},
   "outputs": [],
   "source": [
    "# Save category of features for later purpose\n",
    "feat_dict = {}\n",
    "feat_dict['remove_cols'] = remove_cols\n",
    "feat_dict['cat_cols'] = cat_cols\n",
    "feat_dict['numeric_cols'] = numeric_cols\n",
    "\n",
    "pickle.dump(feat_dict, open(WORK_PATH + \"/results/features_category.pkl\" ,\"wb\"))"
   ]
  },
  {
   "cell_type": "markdown",
   "metadata": {},
   "source": [
    "## Question 2. Plot and Visualization "
   ]
  },
  {
   "cell_type": "code",
   "execution_count": 16,
   "metadata": {},
   "outputs": [
    {
     "data": {
      "image/png": "[encoded data removed]",
      "text/plain": [
       "<Figure size 1080x504 with 2 Axes>"
      ]
     },
     "metadata": {
      "needs_background": "light"
     },
     "output_type": "display_data"
    }
   ],
   "source": [
    "\n",
    "fig, axs = plt.subplots(figsize = (15, 7), ncols=2)\n",
    "\n",
    "pd00.groupby(\"isFraud\").transactionAmount.plot(kind='kde', ax=axs[1])\n",
    "#pd00.groupby(\"isFraud\").transactionAmount.hist(alpha=0.4, ax=axs[0],label='yes')\n",
    "#axs[0].hist(pd00[pd00['isFraud']==1][''])\n",
    "for i in range(2):\n",
    "    axs[i].tick_params(axis=\"x\", labelsize=20)\n",
    "    axs[i].tick_params(axis=\"y\", labelsize=20)\n",
    "    #axs[i].legend(fontsize = 20)\n",
    "axs[0].set_title('Histogram of Transaction Amount',fontsize= 20)\n",
    "axs[1].set_title('Kernel Density Estimation for Transaction Amount', fontsize= 20)\n",
    "#axs[0].set_yscale('log')\n",
    "axs[1].set_ylabel('Density', fontsize = 18)\n",
    "plt.legend(fontsize = 20)\n",
    "plt.subplots_adjust(right=1.4)\n",
    "plt.show()\n",
    "\n",
    "# The PLOT shows that a positive correlation between transaction amount with label Fraud\n",
    "# i.e The higher the transaction amount, the more likely it is a fraud transaction !\n"
   ]
  },
  {
   "cell_type": "code",
   "execution_count": 17,
   "metadata": {},
   "outputs": [
    {
     "data": {
      "text/html": [
       "<div>\n",
       "<style scoped>\n",
       "    .dataframe tbody tr th:only-of-type {\n",
       "        vertical-align: middle;\n",
       "    }\n",
       "\n",
       "    .dataframe tbody tr th {\n",
       "        vertical-align: top;\n",
       "    }\n",
       "\n",
       "    .dataframe thead th {\n",
       "        text-align: right;\n",
       "    }\n",
       "</style>\n",
       "<table border=\"1\" class=\"dataframe\">\n",
       "  <thead>\n",
       "    <tr style=\"text-align: right;\">\n",
       "      <th></th>\n",
       "      <th>creditLimit</th>\n",
       "      <th>availableMoney</th>\n",
       "      <th>transactionAmount</th>\n",
       "      <th>currentBalance</th>\n",
       "      <th>isFraud</th>\n",
       "    </tr>\n",
       "  </thead>\n",
       "  <tbody>\n",
       "    <tr>\n",
       "      <th>creditLimit</th>\n",
       "      <td>1.000000</td>\n",
       "      <td>0.829725</td>\n",
       "      <td>0.003322</td>\n",
       "      <td>0.575515</td>\n",
       "      <td>0.002128</td>\n",
       "    </tr>\n",
       "    <tr>\n",
       "      <th>availableMoney</th>\n",
       "      <td>0.829725</td>\n",
       "      <td>1.000000</td>\n",
       "      <td>-0.019091</td>\n",
       "      <td>0.145357</td>\n",
       "      <td>-0.000744</td>\n",
       "    </tr>\n",
       "    <tr>\n",
       "      <th>transactionAmount</th>\n",
       "      <td>0.003322</td>\n",
       "      <td>-0.019091</td>\n",
       "      <td>1.000000</td>\n",
       "      <td>0.049542</td>\n",
       "      <td>0.073716</td>\n",
       "    </tr>\n",
       "    <tr>\n",
       "      <th>currentBalance</th>\n",
       "      <td>0.575515</td>\n",
       "      <td>0.145357</td>\n",
       "      <td>0.049542</td>\n",
       "      <td>1.000000</td>\n",
       "      <td>0.008093</td>\n",
       "    </tr>\n",
       "    <tr>\n",
       "      <th>isFraud</th>\n",
       "      <td>0.002128</td>\n",
       "      <td>-0.000744</td>\n",
       "      <td>0.073716</td>\n",
       "      <td>0.008093</td>\n",
       "      <td>1.000000</td>\n",
       "    </tr>\n",
       "  </tbody>\n",
       "</table>\n",
       "</div>"
      ],
      "text/plain": [
       "                   creditLimit  availableMoney  transactionAmount  \\\n",
       "creditLimit           1.000000        0.829725           0.003322   \n",
       "availableMoney        0.829725        1.000000          -0.019091   \n",
       "transactionAmount     0.003322       -0.019091           1.000000   \n",
       "currentBalance        0.575515        0.145357           0.049542   \n",
       "isFraud               0.002128       -0.000744           0.073716   \n",
       "\n",
       "                   currentBalance   isFraud  \n",
       "creditLimit              0.575515  0.002128  \n",
       "availableMoney           0.145357 -0.000744  \n",
       "transactionAmount        0.049542  0.073716  \n",
       "currentBalance           1.000000  0.008093  \n",
       "isFraud                  0.008093  1.000000  "
      ]
     },
     "execution_count": 17,
     "metadata": {},
     "output_type": "execute_result"
    }
   ],
   "source": [
    "# Spearman Correlation between some numeric  columns\n",
    "# There are several ways to capture dependency between two variables\n",
    "# Spearman has  time complexity of O(NlogN), but it can not capture some non-monotonic dependency\n",
    "# Better metric is via mutual-information, but its downside is complexity of ~O(N^2), so temporarily \n",
    "# consider Spearman correlation. \n",
    "\n",
    "pd00[['creditLimit', 'availableMoney', 'transactionAmount', 'currentBalance', 'isFraud']].corr('spearman')"
   ]
  }
 ],
 "metadata": {
  "kernelspec": {
   "display_name": "Python 3",
   "language": "python",
   "name": "python3"
  },
  "language_info": {
   "codemirror_mode": {
    "name": "ipython",
    "version": 3
   },
   "file_extension": ".py",
   "mimetype": "text/x-python",
   "name": "python",
   "nbconvert_exporter": "python",
   "pygments_lexer": "ipython3",
   "version": "3.7.6"
  }
 },
 "nbformat": 4,
 "nbformat_minor": 4
}
