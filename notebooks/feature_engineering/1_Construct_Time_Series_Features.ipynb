{
 "cells": [
  {
   "cell_type": "markdown",
   "metadata": {},
   "source": [
    "(+) This notebook serves to compute aggregated time series features look back 4, 12 weeks before the week of transaction\n",
    "(++) So far there are 3 groups of time series features\n"
   ]
  },
  {
   "cell_type": "code",
   "execution_count": 2,
   "metadata": {},
   "outputs": [
    {
     "name": "stdout",
     "output_type": "stream",
     "text": [
      "['merchantName', 'posEntryMode', 'posConditionCode', 'merchantCategoryCode']\n",
      "['accountNumber', 'customerId', 'creditLimit', 'availableMoney', 'transactionAmount', 'cardCVV', 'enteredCVV', 'cardLast4Digits', 'currentBalance', 'cardPresent', 'isFraud']\n"
     ]
    }
   ],
   "source": [
    "import numpy as np\n",
    "import pickle \n",
    "import pandas as pd\n",
    "import warnings\n",
    "warnings.filterwarnings('ignore')\n",
    "\n",
    "import datetime\n",
    "WORK_PATH = \"/Users/welcome/Google Drive (cuong.tranus@gmail.com)/research/internship/fraud-detection\"\n",
    "feat_dict = pickle.load(open(WORK_PATH + \"/results/features_category.pkl\" ,\"rb\"))\n",
    "\n",
    "numeric_cols = feat_dict['numeric_cols']\n",
    "cat_cols = feat_dict['cat_cols']\n",
    "\n",
    "print(cat_cols)\n",
    "print(numeric_cols)"
   ]
  },
  {
   "cell_type": "code",
   "execution_count": 3,
   "metadata": {},
   "outputs": [
    {
     "name": "stdout",
     "output_type": "stream",
     "text": [
      "(786363, 26)\n"
     ]
    }
   ],
   "source": [
    "pd00 = pd.read_csv(WORK_PATH + \"/data/processed_data.csv\")\n",
    "print(pd00.shape)"
   ]
  },
  {
   "cell_type": "code",
   "execution_count": 4,
   "metadata": {},
   "outputs": [
    {
     "data": {
      "text/plain": [
       "0        rideshare\n",
       "1    entertainment\n",
       "2       mobileapps\n",
       "3       mobileapps\n",
       "Name: merchantCategoryCode, dtype: object"
      ]
     },
     "execution_count": 4,
     "metadata": {},
     "output_type": "execute_result"
    }
   ],
   "source": [
    "pd00['merchantCategoryCode'].head(4)"
   ]
  },
  {
   "cell_type": "code",
   "execution_count": 5,
   "metadata": {},
   "outputs": [
    {
     "name": "stdout",
     "output_type": "stream",
     "text": [
      "0\n",
      "52\n",
      "1\n",
      "--------\n",
      "5414.0\n",
      "6821.0\n"
     ]
    }
   ],
   "source": [
    "## Extract date info\n",
    "def get_week_in_year(date):\n",
    "    \"\"\"\n",
    "    get week number based on date\n",
    "    return an integer number between 0 and 51\n",
    "    \"\"\"\n",
    "    y,m, d = date.split(\"-\")\n",
    "    week = datetime.date(int(y), int(m), int(d)).isocalendar()[1]\n",
    "    if week >52:\n",
    "        # for some reasons get_week('2016-01-01') return 53 but not zero \n",
    "        return 0\n",
    "    else:\n",
    "        return week\n",
    "    \n",
    "\n",
    "def get_hour_in_year(trans_date):\n",
    "    \"\"\"\n",
    "    get hour number based on date\n",
    "    return an integer number between 0 and 24*365\n",
    "    \n",
    "    \"\"\"\n",
    "    ymd = trans_date.split(\"T\")[0]\n",
    "    hour = trans_date.split(\"T\")[1].split(\":\")[0]\n",
    "    y,m,d  = ymd.split(\"-\")\n",
    "    start_time = datetime.datetime(2016,1,1,0)\n",
    "    end_time = datetime.datetime(int(y), int(m),int(d),int(hour))\n",
    "    \n",
    "    return abs(start_time - end_time).total_seconds() / 3600.0\n",
    "    \n",
    "\n",
    "\n",
    "print(get_week_in_year('2016-01-01'))\n",
    "print(get_week_in_year('2016-12-31'))\n",
    "print(get_week_in_year('2016-01-07'))\n",
    "\n",
    "\n",
    "print(\"--------\")\n",
    "\n",
    "print(get_hour_in_year('2016-08-13T14:27:32'))\n",
    "print(get_hour_in_year('2016-10-11T05:05:54'))"
   ]
  },
  {
   "cell_type": "code",
   "execution_count": 6,
   "metadata": {},
   "outputs": [],
   "source": [
    "pd00['date'] = pd00['transactionDateTime'].apply(lambda x: x.split(\"T\")[0]).astype(str)\n",
    "pd00['week_in_year'] = pd00['date'].apply(get_week_in_year)\n",
    "pd00['hour_in_year'] = pd00['transactionDateTime'].apply(get_hour_in_year)"
   ]
  },
  {
   "cell_type": "markdown",
   "metadata": {},
   "source": [
    "### I. Aggregate  previous n weeks (before the week of transaction) for numetric columns"
   ]
  },
  {
   "cell_type": "markdown",
   "metadata": {},
   "source": [
    "Time series feature group 1: Compute basic aggregated function mean/max/...of numeric columns over n weeks before\n",
    "the week that customer make the transaction."
   ]
  },
  {
   "cell_type": "code",
   "execution_count": 88,
   "metadata": {},
   "outputs": [],
   "source": [
    "agg_num_func = {col :[np.mean, np.std, np.min, np.max, pd.DataFrame.kurt, pd.DataFrame.skew] for col in ['creditLimit','availableMoney','transactionAmount','currentBalance']}\n",
    "agg_num_func['customerId']= np.size\n",
    "\n",
    "def get_stats_numeric_feats_nweeks(pd00, nweek):\n",
    "    \"\"\"\n",
    "    Compute some aggegate stats (mean/max/std/skewness/kurtosis) over previous n weeks before the\n",
    "    week when customer make a transaction. \n",
    "    \"\"\"\n",
    "    \n",
    "    pd_list = []\n",
    "    for week in range(nweek,52):\n",
    "        temp_pd = pd00[(pd00['week_in_year']>=week-nweek) & (pd00['week_in_year']<=week-1)]\n",
    "        group_pd = temp_pd.groupby('accountNumber').agg(agg_num_fun).reset_index()\n",
    "        group_pd.columns = ['accountNumber'] + [\"_\".join(col) +\"_lb_{}weeks\".format(nweek) for col in group_pd.columns.tolist()[1:]]\n",
    "        group_pd['week_in_year'] = week\n",
    "        pd_list.append(group_pd)\n",
    "\n",
    "    \n",
    "    pd02  = pd.concat(pd_list)\n",
    "    \n",
    "    return pd02"
   ]
  },
  {
   "cell_type": "code",
   "execution_count": 89,
   "metadata": {},
   "outputs": [
    {
     "name": "stdout",
     "output_type": "stream",
     "text": [
      "CPU times: user 3min 18s, sys: 1.97 s, total: 3min 20s\n",
      "Wall time: 3min 24s\n"
     ]
    }
   ],
   "source": [
    "%%time\n",
    "lb4wk_pd02 = get_stats_numeric_feats_nweeks(pd00, nweek = 4)"
   ]
  },
  {
   "cell_type": "code",
   "execution_count": 90,
   "metadata": {},
   "outputs": [
    {
     "data": {
      "text/html": [
       "<div>\n",
       "<style scoped>\n",
       "    .dataframe tbody tr th:only-of-type {\n",
       "        vertical-align: middle;\n",
       "    }\n",
       "\n",
       "    .dataframe tbody tr th {\n",
       "        vertical-align: top;\n",
       "    }\n",
       "\n",
       "    .dataframe thead th {\n",
       "        text-align: right;\n",
       "    }\n",
       "</style>\n",
       "<table border=\"1\" class=\"dataframe\">\n",
       "  <thead>\n",
       "    <tr style=\"text-align: right;\">\n",
       "      <th></th>\n",
       "      <th>accountNumber</th>\n",
       "      <th>creditLimit_mean_lb_4weeks</th>\n",
       "      <th>creditLimit_std_lb_4weeks</th>\n",
       "      <th>creditLimit_amin_lb_4weeks</th>\n",
       "      <th>creditLimit_amax_lb_4weeks</th>\n",
       "      <th>creditLimit_kurt_lb_4weeks</th>\n",
       "      <th>creditLimit_skew_lb_4weeks</th>\n",
       "      <th>availableMoney_mean_lb_4weeks</th>\n",
       "      <th>availableMoney_std_lb_4weeks</th>\n",
       "      <th>availableMoney_amin_lb_4weeks</th>\n",
       "      <th>...</th>\n",
       "      <th>transactionAmount_kurt_lb_4weeks</th>\n",
       "      <th>transactionAmount_skew_lb_4weeks</th>\n",
       "      <th>currentBalance_mean_lb_4weeks</th>\n",
       "      <th>currentBalance_std_lb_4weeks</th>\n",
       "      <th>currentBalance_amin_lb_4weeks</th>\n",
       "      <th>currentBalance_amax_lb_4weeks</th>\n",
       "      <th>currentBalance_kurt_lb_4weeks</th>\n",
       "      <th>currentBalance_skew_lb_4weeks</th>\n",
       "      <th>customerId_size_lb_4weeks</th>\n",
       "      <th>week_in_year</th>\n",
       "    </tr>\n",
       "  </thead>\n",
       "  <tbody>\n",
       "    <tr>\n",
       "      <th>0</th>\n",
       "      <td>100088067</td>\n",
       "      <td>50000</td>\n",
       "      <td>0.0</td>\n",
       "      <td>50000</td>\n",
       "      <td>50000</td>\n",
       "      <td>NaN</td>\n",
       "      <td>0.0</td>\n",
       "      <td>49847.770</td>\n",
       "      <td>133.863423</td>\n",
       "      <td>49748.44</td>\n",
       "      <td>...</td>\n",
       "      <td>NaN</td>\n",
       "      <td>0.133836</td>\n",
       "      <td>152.230</td>\n",
       "      <td>133.863423</td>\n",
       "      <td>0.0</td>\n",
       "      <td>251.56</td>\n",
       "      <td>NaN</td>\n",
       "      <td>-1.500594</td>\n",
       "      <td>3</td>\n",
       "      <td>4</td>\n",
       "    </tr>\n",
       "    <tr>\n",
       "      <th>1</th>\n",
       "      <td>100328049</td>\n",
       "      <td>5000</td>\n",
       "      <td>0.0</td>\n",
       "      <td>5000</td>\n",
       "      <td>5000</td>\n",
       "      <td>0.0</td>\n",
       "      <td>0.0</td>\n",
       "      <td>4828.962</td>\n",
       "      <td>190.327826</td>\n",
       "      <td>4605.10</td>\n",
       "      <td>...</td>\n",
       "      <td>1.872156</td>\n",
       "      <td>1.394735</td>\n",
       "      <td>171.038</td>\n",
       "      <td>190.327826</td>\n",
       "      <td>0.0</td>\n",
       "      <td>394.90</td>\n",
       "      <td>-2.960551</td>\n",
       "      <td>0.412050</td>\n",
       "      <td>5</td>\n",
       "      <td>4</td>\n",
       "    </tr>\n",
       "    <tr>\n",
       "      <th>2</th>\n",
       "      <td>100663626</td>\n",
       "      <td>20000</td>\n",
       "      <td>0.0</td>\n",
       "      <td>20000</td>\n",
       "      <td>20000</td>\n",
       "      <td>NaN</td>\n",
       "      <td>0.0</td>\n",
       "      <td>19935.510</td>\n",
       "      <td>97.907060</td>\n",
       "      <td>19822.85</td>\n",
       "      <td>...</td>\n",
       "      <td>NaN</td>\n",
       "      <td>1.426171</td>\n",
       "      <td>64.490</td>\n",
       "      <td>97.907060</td>\n",
       "      <td>0.0</td>\n",
       "      <td>177.15</td>\n",
       "      <td>NaN</td>\n",
       "      <td>1.678067</td>\n",
       "      <td>3</td>\n",
       "      <td>4</td>\n",
       "    </tr>\n",
       "  </tbody>\n",
       "</table>\n",
       "<p>3 rows × 27 columns</p>\n",
       "</div>"
      ],
      "text/plain": [
       "   accountNumber  creditLimit_mean_lb_4weeks  creditLimit_std_lb_4weeks  \\\n",
       "0      100088067                       50000                        0.0   \n",
       "1      100328049                        5000                        0.0   \n",
       "2      100663626                       20000                        0.0   \n",
       "\n",
       "   creditLimit_amin_lb_4weeks  creditLimit_amax_lb_4weeks  \\\n",
       "0                       50000                       50000   \n",
       "1                        5000                        5000   \n",
       "2                       20000                       20000   \n",
       "\n",
       "   creditLimit_kurt_lb_4weeks  creditLimit_skew_lb_4weeks  \\\n",
       "0                         NaN                         0.0   \n",
       "1                         0.0                         0.0   \n",
       "2                         NaN                         0.0   \n",
       "\n",
       "   availableMoney_mean_lb_4weeks  availableMoney_std_lb_4weeks  \\\n",
       "0                      49847.770                    133.863423   \n",
       "1                       4828.962                    190.327826   \n",
       "2                      19935.510                     97.907060   \n",
       "\n",
       "   availableMoney_amin_lb_4weeks  ...  transactionAmount_kurt_lb_4weeks  \\\n",
       "0                       49748.44  ...                               NaN   \n",
       "1                        4605.10  ...                          1.872156   \n",
       "2                       19822.85  ...                               NaN   \n",
       "\n",
       "   transactionAmount_skew_lb_4weeks  currentBalance_mean_lb_4weeks  \\\n",
       "0                          0.133836                        152.230   \n",
       "1                          1.394735                        171.038   \n",
       "2                          1.426171                         64.490   \n",
       "\n",
       "   currentBalance_std_lb_4weeks  currentBalance_amin_lb_4weeks  \\\n",
       "0                    133.863423                            0.0   \n",
       "1                    190.327826                            0.0   \n",
       "2                     97.907060                            0.0   \n",
       "\n",
       "   currentBalance_amax_lb_4weeks  currentBalance_kurt_lb_4weeks  \\\n",
       "0                         251.56                            NaN   \n",
       "1                         394.90                      -2.960551   \n",
       "2                         177.15                            NaN   \n",
       "\n",
       "   currentBalance_skew_lb_4weeks  customerId_size_lb_4weeks  week_in_year  \n",
       "0                      -1.500594                          3             4  \n",
       "1                       0.412050                          5             4  \n",
       "2                       1.678067                          3             4  \n",
       "\n",
       "[3 rows x 27 columns]"
      ]
     },
     "execution_count": 90,
     "metadata": {},
     "output_type": "execute_result"
    }
   ],
   "source": [
    "lb4wk_pd02.head(3)"
   ]
  },
  {
   "cell_type": "code",
   "execution_count": 91,
   "metadata": {},
   "outputs": [
    {
     "name": "stdout",
     "output_type": "stream",
     "text": [
      "CPU times: user 3min 9s, sys: 2.9 s, total: 3min 12s\n",
      "Wall time: 3min 16s\n"
     ]
    }
   ],
   "source": [
    "%%time\n",
    "lb12wk_pd02 = get_stats_numeric_feats_nweeks(pd00, nweek = 12)"
   ]
  },
  {
   "cell_type": "code",
   "execution_count": 92,
   "metadata": {},
   "outputs": [],
   "source": [
    "\n",
    "lb4wk_pd02.to_csv(WORK_PATH + \"/results/basic_num_ts_feats_lb4wk.csv\", index = False)"
   ]
  },
  {
   "cell_type": "code",
   "execution_count": 93,
   "metadata": {},
   "outputs": [
    {
     "data": {
      "text/html": [
       "<div>\n",
       "<style scoped>\n",
       "    .dataframe tbody tr th:only-of-type {\n",
       "        vertical-align: middle;\n",
       "    }\n",
       "\n",
       "    .dataframe tbody tr th {\n",
       "        vertical-align: top;\n",
       "    }\n",
       "\n",
       "    .dataframe thead th {\n",
       "        text-align: right;\n",
       "    }\n",
       "</style>\n",
       "<table border=\"1\" class=\"dataframe\">\n",
       "  <thead>\n",
       "    <tr style=\"text-align: right;\">\n",
       "      <th></th>\n",
       "      <th>accountNumber</th>\n",
       "      <th>creditLimit_mean_lb_12weeks</th>\n",
       "      <th>creditLimit_std_lb_12weeks</th>\n",
       "      <th>creditLimit_amin_lb_12weeks</th>\n",
       "      <th>creditLimit_amax_lb_12weeks</th>\n",
       "      <th>creditLimit_kurt_lb_12weeks</th>\n",
       "      <th>creditLimit_skew_lb_12weeks</th>\n",
       "      <th>availableMoney_mean_lb_12weeks</th>\n",
       "      <th>availableMoney_std_lb_12weeks</th>\n",
       "      <th>availableMoney_amin_lb_12weeks</th>\n",
       "      <th>...</th>\n",
       "      <th>transactionAmount_kurt_lb_12weeks</th>\n",
       "      <th>transactionAmount_skew_lb_12weeks</th>\n",
       "      <th>currentBalance_mean_lb_12weeks</th>\n",
       "      <th>currentBalance_std_lb_12weeks</th>\n",
       "      <th>currentBalance_amin_lb_12weeks</th>\n",
       "      <th>currentBalance_amax_lb_12weeks</th>\n",
       "      <th>currentBalance_kurt_lb_12weeks</th>\n",
       "      <th>currentBalance_skew_lb_12weeks</th>\n",
       "      <th>customerId_size_lb_12weeks</th>\n",
       "      <th>week_in_year</th>\n",
       "    </tr>\n",
       "  </thead>\n",
       "  <tbody>\n",
       "    <tr>\n",
       "      <th>0</th>\n",
       "      <td>100088067</td>\n",
       "      <td>50000</td>\n",
       "      <td>0.0</td>\n",
       "      <td>50000</td>\n",
       "      <td>50000</td>\n",
       "      <td>0.0</td>\n",
       "      <td>0.0</td>\n",
       "      <td>49746.739286</td>\n",
       "      <td>241.724595</td>\n",
       "      <td>49349.93</td>\n",
       "      <td>...</td>\n",
       "      <td>1.870305</td>\n",
       "      <td>1.487139</td>\n",
       "      <td>253.260714</td>\n",
       "      <td>241.724595</td>\n",
       "      <td>0.0</td>\n",
       "      <td>650.07</td>\n",
       "      <td>-1.527795</td>\n",
       "      <td>0.429791</td>\n",
       "      <td>14</td>\n",
       "      <td>12</td>\n",
       "    </tr>\n",
       "    <tr>\n",
       "      <th>1</th>\n",
       "      <td>100328049</td>\n",
       "      <td>5000</td>\n",
       "      <td>0.0</td>\n",
       "      <td>5000</td>\n",
       "      <td>5000</td>\n",
       "      <td>0.0</td>\n",
       "      <td>0.0</td>\n",
       "      <td>4700.565556</td>\n",
       "      <td>234.323312</td>\n",
       "      <td>4334.74</td>\n",
       "      <td>...</td>\n",
       "      <td>-1.088848</td>\n",
       "      <td>0.409309</td>\n",
       "      <td>299.434444</td>\n",
       "      <td>234.323312</td>\n",
       "      <td>0.0</td>\n",
       "      <td>665.26</td>\n",
       "      <td>-1.368334</td>\n",
       "      <td>0.118470</td>\n",
       "      <td>18</td>\n",
       "      <td>12</td>\n",
       "    </tr>\n",
       "    <tr>\n",
       "      <th>2</th>\n",
       "      <td>100663626</td>\n",
       "      <td>20000</td>\n",
       "      <td>0.0</td>\n",
       "      <td>20000</td>\n",
       "      <td>20000</td>\n",
       "      <td>0.0</td>\n",
       "      <td>0.0</td>\n",
       "      <td>19732.161429</td>\n",
       "      <td>224.999672</td>\n",
       "      <td>19471.38</td>\n",
       "      <td>...</td>\n",
       "      <td>1.558473</td>\n",
       "      <td>1.457675</td>\n",
       "      <td>267.838571</td>\n",
       "      <td>224.999672</td>\n",
       "      <td>0.0</td>\n",
       "      <td>528.62</td>\n",
       "      <td>-2.163977</td>\n",
       "      <td>0.000487</td>\n",
       "      <td>7</td>\n",
       "      <td>12</td>\n",
       "    </tr>\n",
       "  </tbody>\n",
       "</table>\n",
       "<p>3 rows × 27 columns</p>\n",
       "</div>"
      ],
      "text/plain": [
       "   accountNumber  creditLimit_mean_lb_12weeks  creditLimit_std_lb_12weeks  \\\n",
       "0      100088067                        50000                         0.0   \n",
       "1      100328049                         5000                         0.0   \n",
       "2      100663626                        20000                         0.0   \n",
       "\n",
       "   creditLimit_amin_lb_12weeks  creditLimit_amax_lb_12weeks  \\\n",
       "0                        50000                        50000   \n",
       "1                         5000                         5000   \n",
       "2                        20000                        20000   \n",
       "\n",
       "   creditLimit_kurt_lb_12weeks  creditLimit_skew_lb_12weeks  \\\n",
       "0                          0.0                          0.0   \n",
       "1                          0.0                          0.0   \n",
       "2                          0.0                          0.0   \n",
       "\n",
       "   availableMoney_mean_lb_12weeks  availableMoney_std_lb_12weeks  \\\n",
       "0                    49746.739286                     241.724595   \n",
       "1                     4700.565556                     234.323312   \n",
       "2                    19732.161429                     224.999672   \n",
       "\n",
       "   availableMoney_amin_lb_12weeks  ...  transactionAmount_kurt_lb_12weeks  \\\n",
       "0                        49349.93  ...                           1.870305   \n",
       "1                         4334.74  ...                          -1.088848   \n",
       "2                        19471.38  ...                           1.558473   \n",
       "\n",
       "   transactionAmount_skew_lb_12weeks  currentBalance_mean_lb_12weeks  \\\n",
       "0                           1.487139                      253.260714   \n",
       "1                           0.409309                      299.434444   \n",
       "2                           1.457675                      267.838571   \n",
       "\n",
       "   currentBalance_std_lb_12weeks  currentBalance_amin_lb_12weeks  \\\n",
       "0                     241.724595                             0.0   \n",
       "1                     234.323312                             0.0   \n",
       "2                     224.999672                             0.0   \n",
       "\n",
       "   currentBalance_amax_lb_12weeks  currentBalance_kurt_lb_12weeks  \\\n",
       "0                          650.07                       -1.527795   \n",
       "1                          665.26                       -1.368334   \n",
       "2                          528.62                       -2.163977   \n",
       "\n",
       "   currentBalance_skew_lb_12weeks  customerId_size_lb_12weeks  week_in_year  \n",
       "0                        0.429791                          14            12  \n",
       "1                        0.118470                          18            12  \n",
       "2                        0.000487                           7            12  \n",
       "\n",
       "[3 rows x 27 columns]"
      ]
     },
     "execution_count": 93,
     "metadata": {},
     "output_type": "execute_result"
    }
   ],
   "source": [
    "lb12wk_pd02.head(3)"
   ]
  },
  {
   "cell_type": "code",
   "execution_count": 94,
   "metadata": {},
   "outputs": [],
   "source": [
    "lb12wk_pd02.to_csv(WORK_PATH + \"/results/basic_num_ts_feats_lb12wk.csv\", index = False)"
   ]
  },
  {
   "cell_type": "markdown",
   "metadata": {},
   "source": [
    "### II. Aggregate previous n weeks for Categorical features"
   ]
  },
  {
   "cell_type": "raw",
   "metadata": {},
   "source": [
    "Time series feature group 2: Basically, count distinct merchant name/merchant code n weeks before the week of transaction.\n",
    "Also check if the merchant name of current transaction belongs to the previous merchant name list of the same user.\n"
   ]
  },
  {
   "cell_type": "code",
   "execution_count": 20,
   "metadata": {},
   "outputs": [],
   "source": [
    "\n",
    "agg_cat_func = {'merchantName': [pd.Series.nunique, lambda x: list(x)], 'merchantCategoryCode': [pd.Series.nunique,lambda x: list(x)]}\n",
    "\n",
    "def in_prev_mchan_list(new_mchant_name, prev_mchant_list):\n",
    "    \"\"\"\n",
    "    Check if the merchant name in current transaction belongs to previous list of merchant list formed\n",
    "    by aggregation over n weeks\n",
    "    \n",
    "    \"\"\"\n",
    "    try:\n",
    "        if new_mchant_name in list(prev_mchant_list):\n",
    "            return 1\n",
    "        else:\n",
    "            return 0\n",
    "    \n",
    "    except:\n",
    "        return None\n",
    "\n",
    "def get_stats_cat_feats_nweeks(pd00, nweek):\n",
    "    \"\"\"\n",
    "    Compute several stats, e.g how many unique merchant names, \n",
    "    and collect all merchant names into a list for later purpose\n",
    "    \n",
    "    \"\"\"\n",
    "    pd_list = []\n",
    "    for week in range(nweek,52):\n",
    "        temp_pd = pd00[(pd00['week_in_year']>=week-nweek) & (pd00['week_in_year']<=week-1)]\n",
    "        group_pd = temp_pd.groupby('accountNumber').agg(agg_cat_func).reset_index()\n",
    "        group_pd.columns = [\"accountNumber\", \"dcount_mchant_name\", \"list_mchant_name\", \"dcount_mchant_code\",\"list_mchant_code\"] \n",
    "        group_pd['week_in_year'] = week\n",
    "        pd_list.append(group_pd)\n",
    "    \n",
    "    pd02  = pd.concat(pd_list)\n",
    "    #pd03 = pd.merge(pd02, pd00[['accountNumber','merchantName', 'merchantCategoryCode', 'week_in_year']], on =['accountNumber','week_in_year'], how ='left')\n",
    "    pd03 = pd02\n",
    "    \n",
    "    pd03 = pd03.rename(columns = {'dcount_mchant_name':\"dcount_mchant_name_lb_{}weels\".format(week)})\n",
    "    pd03 = pd03.rename(columns = {'dcount_mchant_code':\"dcount_mchant_code_lb_{}weels\".format(week)})\n",
    "    \n",
    "    new_cols = [\"dcount_mchant_name_lb_{}weels\".format(week),\"dcount_mchant_code_lb_{}weels\".format(week) ]\n",
    "    \n",
    "#     pd03['in_prev_mchant_list_lb_{}weeks'.format(nweek)] = pd03.apply(lambda x: \\\n",
    "#                                                           in_prev_mchan_list( x['merchantName'], x['list_mchant_name']) , axis=1)\n",
    "    \n",
    "#     pd03['in_prev_mchant_codes_lb_{}weeks'.format(nweek)] = pd03.apply(lambda x: \\\n",
    "#                                                           in_prev_mchan_list( x['merchantCategoryCode'], x['list_mchant_code']) , axis=1)\n",
    "    \n",
    "    \n",
    "#     new_cols = new_cols  + ['in_prev_mchant_list_lb_{}weeks'.format(nweek),'in_prev_mchant_codes_lb_{}weeks'.format(nweek) ]\n",
    "    \n",
    "\n",
    "    return pd03[['accountNumber','week_in_year'] + new_cols  ]"
   ]
  },
  {
   "cell_type": "code",
   "execution_count": 26,
   "metadata": {},
   "outputs": [
    {
     "name": "stdout",
     "output_type": "stream",
     "text": [
      "CPU times: user 54.1 s, sys: 1.44 s, total: 55.6 s\n",
      "Wall time: 56.7 s\n"
     ]
    }
   ],
   "source": [
    "%%time\n",
    "lb12wk_pd03 = get_stats_cat_feats_nweeks(pd00, nweek = 12)"
   ]
  },
  {
   "cell_type": "code",
   "execution_count": 34,
   "metadata": {},
   "outputs": [
    {
     "data": {
      "text/plain": [
       "(190826, 4)"
      ]
     },
     "execution_count": 34,
     "metadata": {},
     "output_type": "execute_result"
    }
   ],
   "source": [
    "lb12wk_pd03.shape"
   ]
  },
  {
   "cell_type": "code",
   "execution_count": 35,
   "metadata": {},
   "outputs": [
    {
     "data": {
      "text/plain": [
       "(190826, 4)"
      ]
     },
     "execution_count": 35,
     "metadata": {},
     "output_type": "execute_result"
    }
   ],
   "source": [
    "lb12wk_pd03.drop_duplicates(subset =['accountNumber','week_in_year']).shape"
   ]
  },
  {
   "cell_type": "code",
   "execution_count": 29,
   "metadata": {},
   "outputs": [
    {
     "data": {
      "text/html": [
       "<div>\n",
       "<style scoped>\n",
       "    .dataframe tbody tr th:only-of-type {\n",
       "        vertical-align: middle;\n",
       "    }\n",
       "\n",
       "    .dataframe tbody tr th {\n",
       "        vertical-align: top;\n",
       "    }\n",
       "\n",
       "    .dataframe thead th {\n",
       "        text-align: right;\n",
       "    }\n",
       "</style>\n",
       "<table border=\"1\" class=\"dataframe\">\n",
       "  <thead>\n",
       "    <tr style=\"text-align: right;\">\n",
       "      <th></th>\n",
       "      <th>accountNumber</th>\n",
       "      <th>week_in_year</th>\n",
       "      <th>dcount_mchant_name_lb_51weels</th>\n",
       "      <th>dcount_mchant_code_lb_51weels</th>\n",
       "    </tr>\n",
       "  </thead>\n",
       "  <tbody>\n",
       "    <tr>\n",
       "      <th>0</th>\n",
       "      <td>100088067</td>\n",
       "      <td>12</td>\n",
       "      <td>14</td>\n",
       "      <td>3</td>\n",
       "    </tr>\n",
       "    <tr>\n",
       "      <th>1</th>\n",
       "      <td>100328049</td>\n",
       "      <td>12</td>\n",
       "      <td>16</td>\n",
       "      <td>4</td>\n",
       "    </tr>\n",
       "    <tr>\n",
       "      <th>2</th>\n",
       "      <td>100663626</td>\n",
       "      <td>12</td>\n",
       "      <td>7</td>\n",
       "      <td>2</td>\n",
       "    </tr>\n",
       "  </tbody>\n",
       "</table>\n",
       "</div>"
      ],
      "text/plain": [
       "   accountNumber  week_in_year  dcount_mchant_name_lb_51weels  \\\n",
       "0      100088067            12                             14   \n",
       "1      100328049            12                             16   \n",
       "2      100663626            12                              7   \n",
       "\n",
       "   dcount_mchant_code_lb_51weels  \n",
       "0                              3  \n",
       "1                              4  \n",
       "2                              2  "
      ]
     },
     "execution_count": 29,
     "metadata": {},
     "output_type": "execute_result"
    }
   ],
   "source": [
    "lb12wk_pd03.head(3)"
   ]
  },
  {
   "cell_type": "code",
   "execution_count": 36,
   "metadata": {},
   "outputs": [],
   "source": [
    "lb12wk_pd03.to_csv(WORK_PATH + \"/results/basic_cat_ts_feats_lb12wk.csv\", index = False)"
   ]
  },
  {
   "cell_type": "code",
   "execution_count": 37,
   "metadata": {},
   "outputs": [
    {
     "name": "stdout",
     "output_type": "stream",
     "text": [
      "CPU times: user 1min 20s, sys: 967 ms, total: 1min 21s\n",
      "Wall time: 1min 45s\n"
     ]
    }
   ],
   "source": [
    "%%time\n",
    "lb14wk_pd03 = get_stats_cat_feats_nweeks(pd00, nweek = 4)"
   ]
  },
  {
   "cell_type": "code",
   "execution_count": 38,
   "metadata": {},
   "outputs": [
    {
     "data": {
      "text/html": [
       "<div>\n",
       "<style scoped>\n",
       "    .dataframe tbody tr th:only-of-type {\n",
       "        vertical-align: middle;\n",
       "    }\n",
       "\n",
       "    .dataframe tbody tr th {\n",
       "        vertical-align: top;\n",
       "    }\n",
       "\n",
       "    .dataframe thead th {\n",
       "        text-align: right;\n",
       "    }\n",
       "</style>\n",
       "<table border=\"1\" class=\"dataframe\">\n",
       "  <thead>\n",
       "    <tr style=\"text-align: right;\">\n",
       "      <th></th>\n",
       "      <th>accountNumber</th>\n",
       "      <th>week_in_year</th>\n",
       "      <th>dcount_mchant_name_lb_51weels</th>\n",
       "      <th>dcount_mchant_code_lb_51weels</th>\n",
       "    </tr>\n",
       "  </thead>\n",
       "  <tbody>\n",
       "    <tr>\n",
       "      <th>0</th>\n",
       "      <td>100088067</td>\n",
       "      <td>4</td>\n",
       "      <td>3</td>\n",
       "      <td>3</td>\n",
       "    </tr>\n",
       "    <tr>\n",
       "      <th>1</th>\n",
       "      <td>100328049</td>\n",
       "      <td>4</td>\n",
       "      <td>4</td>\n",
       "      <td>2</td>\n",
       "    </tr>\n",
       "    <tr>\n",
       "      <th>2</th>\n",
       "      <td>100663626</td>\n",
       "      <td>4</td>\n",
       "      <td>3</td>\n",
       "      <td>1</td>\n",
       "    </tr>\n",
       "  </tbody>\n",
       "</table>\n",
       "</div>"
      ],
      "text/plain": [
       "   accountNumber  week_in_year  dcount_mchant_name_lb_51weels  \\\n",
       "0      100088067             4                              3   \n",
       "1      100328049             4                              4   \n",
       "2      100663626             4                              3   \n",
       "\n",
       "   dcount_mchant_code_lb_51weels  \n",
       "0                              3  \n",
       "1                              2  \n",
       "2                              1  "
      ]
     },
     "execution_count": 38,
     "metadata": {},
     "output_type": "execute_result"
    }
   ],
   "source": [
    "lb14wk_pd03.head(3)"
   ]
  },
  {
   "cell_type": "code",
   "execution_count": 39,
   "metadata": {},
   "outputs": [],
   "source": [
    "lb14wk_pd03.to_csv(WORK_PATH + \"/results/basic_cat_ts_feats_lb4wk.csv\", index = False)"
   ]
  },
  {
   "cell_type": "markdown",
   "metadata": {},
   "source": [
    "### Inter-event of prevous n weeks time series features"
   ]
  },
  {
   "cell_type": "raw",
   "metadata": {},
   "source": [
    "Time series feature group 3: We compute the statistics of difference time (in hour) between two consecutive transaction of one user"
   ]
  },
  {
   "cell_type": "code",
   "execution_count": 6,
   "metadata": {},
   "outputs": [],
   "source": [
    "def get_diff_stats(x):\n",
    "    x = np.asarray(x)\n",
    "    diff_x = np.abs( x[1:] - x[:-1])\n",
    "    \n",
    "    return np.mean(diff_x), np.std(diff_x), np.max(x), np.min(x)\n",
    "\n",
    "\n",
    "def get_stats_diff_time_nweeks(pd00, nweek):\n",
    "    \"\"\"\n",
    "    Compute several stats, e.g how many unique merchant names, \n",
    "    and collect all merchant names into a list for later purpose\n",
    "    \n",
    "    \"\"\"\n",
    "    pd_list = []\n",
    "    for week in range(nweek,52):\n",
    "        temp_pd = pd00[(pd00['week_in_year']>=week-nweek) & (pd00['week_in_year']<=week-1)]\n",
    "        temp_pd = temp_pd.sort_values(by=['accountNumber','hour_in_year'])\n",
    "        group_pd = temp_pd.groupby('accountNumber')['hour_in_year'].apply(list).reset_index()\n",
    "        group_pd.columns = ['accountNumber', \"list_of_hours\"]\n",
    "        group_pd['diff_time_stat'] = group_pd['list_of_hours'].apply(get_diff_stats)\n",
    "        for i in range(4):\n",
    "            group_pd['diff_time_stat_{}_lb_{}weeks'.format(i, nweek)] =  group_pd['diff_time_stat'].apply(lambda x: x[i])\n",
    "        \n",
    "        group_pd['week_in_year'] = week\n",
    "        \n",
    "        cols = ['accountNumber','week_in_year'] + [col for col in group_pd.columns.tolist() if 'lb' in col]\n",
    "            \n",
    "        pd_list.append(group_pd[cols])\n",
    "    \n",
    "    return pd.concat(pd_list)\n",
    "        "
   ]
  },
  {
   "cell_type": "code",
   "execution_count": 7,
   "metadata": {},
   "outputs": [
    {
     "name": "stdout",
     "output_type": "stream",
     "text": [
      "CPU times: user 24.8 s, sys: 2.21 s, total: 27 s\n",
      "Wall time: 29 s\n"
     ]
    }
   ],
   "source": [
    "%%time\n",
    "lb12wk_pd04 = get_stats_diff_time_nweeks(pd00, nweek = 12)"
   ]
  },
  {
   "cell_type": "code",
   "execution_count": 8,
   "metadata": {},
   "outputs": [
    {
     "data": {
      "text/html": [
       "<div>\n",
       "<style scoped>\n",
       "    .dataframe tbody tr th:only-of-type {\n",
       "        vertical-align: middle;\n",
       "    }\n",
       "\n",
       "    .dataframe tbody tr th {\n",
       "        vertical-align: top;\n",
       "    }\n",
       "\n",
       "    .dataframe thead th {\n",
       "        text-align: right;\n",
       "    }\n",
       "</style>\n",
       "<table border=\"1\" class=\"dataframe\">\n",
       "  <thead>\n",
       "    <tr style=\"text-align: right;\">\n",
       "      <th></th>\n",
       "      <th>accountNumber</th>\n",
       "      <th>week_in_year</th>\n",
       "      <th>diff_time_stat_0_lb_12weeks</th>\n",
       "      <th>diff_time_stat_1_lb_12weeks</th>\n",
       "      <th>diff_time_stat_2_lb_12weeks</th>\n",
       "      <th>diff_time_stat_3_lb_12weeks</th>\n",
       "    </tr>\n",
       "  </thead>\n",
       "  <tbody>\n",
       "    <tr>\n",
       "      <th>0</th>\n",
       "      <td>100088067</td>\n",
       "      <td>12</td>\n",
       "      <td>111.692308</td>\n",
       "      <td>98.747841</td>\n",
       "      <td>1716.0</td>\n",
       "      <td>264.0</td>\n",
       "    </tr>\n",
       "    <tr>\n",
       "      <th>1</th>\n",
       "      <td>100328049</td>\n",
       "      <td>12</td>\n",
       "      <td>106.764706</td>\n",
       "      <td>80.734517</td>\n",
       "      <td>1860.0</td>\n",
       "      <td>45.0</td>\n",
       "    </tr>\n",
       "    <tr>\n",
       "      <th>2</th>\n",
       "      <td>100663626</td>\n",
       "      <td>12</td>\n",
       "      <td>213.833333</td>\n",
       "      <td>153.061444</td>\n",
       "      <td>1588.0</td>\n",
       "      <td>305.0</td>\n",
       "    </tr>\n",
       "    <tr>\n",
       "      <th>3</th>\n",
       "      <td>100737756</td>\n",
       "      <td>12</td>\n",
       "      <td>48.166667</td>\n",
       "      <td>52.086200</td>\n",
       "      <td>1887.0</td>\n",
       "      <td>153.0</td>\n",
       "    </tr>\n",
       "  </tbody>\n",
       "</table>\n",
       "</div>"
      ],
      "text/plain": [
       "   accountNumber  week_in_year  diff_time_stat_0_lb_12weeks  \\\n",
       "0      100088067            12                   111.692308   \n",
       "1      100328049            12                   106.764706   \n",
       "2      100663626            12                   213.833333   \n",
       "3      100737756            12                    48.166667   \n",
       "\n",
       "   diff_time_stat_1_lb_12weeks  diff_time_stat_2_lb_12weeks  \\\n",
       "0                    98.747841                       1716.0   \n",
       "1                    80.734517                       1860.0   \n",
       "2                   153.061444                       1588.0   \n",
       "3                    52.086200                       1887.0   \n",
       "\n",
       "   diff_time_stat_3_lb_12weeks  \n",
       "0                        264.0  \n",
       "1                         45.0  \n",
       "2                        305.0  \n",
       "3                        153.0  "
      ]
     },
     "execution_count": 8,
     "metadata": {},
     "output_type": "execute_result"
    }
   ],
   "source": [
    "lb12wk_pd04.head(4)"
   ]
  },
  {
   "cell_type": "code",
   "execution_count": 9,
   "metadata": {},
   "outputs": [],
   "source": [
    "lb12wk_pd04.to_csv(WORK_PATH + \"/results/stats_diff_time_feats_lb12wk.csv\", index = False)"
   ]
  },
  {
   "cell_type": "code",
   "execution_count": 10,
   "metadata": {},
   "outputs": [],
   "source": [
    "lb14wk_pd04 = get_stats_diff_time_nweeks(pd00, nweek = 4)"
   ]
  },
  {
   "cell_type": "code",
   "execution_count": 285,
   "metadata": {},
   "outputs": [
    {
     "data": {
      "text/html": [
       "<div>\n",
       "<style scoped>\n",
       "    .dataframe tbody tr th:only-of-type {\n",
       "        vertical-align: middle;\n",
       "    }\n",
       "\n",
       "    .dataframe tbody tr th {\n",
       "        vertical-align: top;\n",
       "    }\n",
       "\n",
       "    .dataframe thead th {\n",
       "        text-align: right;\n",
       "    }\n",
       "</style>\n",
       "<table border=\"1\" class=\"dataframe\">\n",
       "  <thead>\n",
       "    <tr style=\"text-align: right;\">\n",
       "      <th></th>\n",
       "      <th>accountNumber</th>\n",
       "      <th>week_in_year</th>\n",
       "      <th>diff_time_stat_0_lb_4weeks</th>\n",
       "      <th>diff_time_stat_1_lb_4weeks</th>\n",
       "      <th>diff_time_stat_2_lb_4weeks</th>\n",
       "      <th>diff_time_stat_3_lb_4weeks</th>\n",
       "    </tr>\n",
       "  </thead>\n",
       "  <tbody>\n",
       "    <tr>\n",
       "      <th>0</th>\n",
       "      <td>100088067</td>\n",
       "      <td>4</td>\n",
       "      <td>67.500000</td>\n",
       "      <td>48.500000</td>\n",
       "      <td>399.0</td>\n",
       "      <td>264.0</td>\n",
       "    </tr>\n",
       "    <tr>\n",
       "      <th>1</th>\n",
       "      <td>100328049</td>\n",
       "      <td>4</td>\n",
       "      <td>77.750000</td>\n",
       "      <td>71.541509</td>\n",
       "      <td>356.0</td>\n",
       "      <td>45.0</td>\n",
       "    </tr>\n",
       "    <tr>\n",
       "      <th>2</th>\n",
       "      <td>100663626</td>\n",
       "      <td>4</td>\n",
       "      <td>128.500000</td>\n",
       "      <td>98.500000</td>\n",
       "      <td>562.0</td>\n",
       "      <td>305.0</td>\n",
       "    </tr>\n",
       "    <tr>\n",
       "      <th>3</th>\n",
       "      <td>100737756</td>\n",
       "      <td>4</td>\n",
       "      <td>28.692308</td>\n",
       "      <td>26.104478</td>\n",
       "      <td>526.0</td>\n",
       "      <td>153.0</td>\n",
       "    </tr>\n",
       "  </tbody>\n",
       "</table>\n",
       "</div>"
      ],
      "text/plain": [
       "   accountNumber  week_in_year  diff_time_stat_0_lb_4weeks  \\\n",
       "0      100088067             4                   67.500000   \n",
       "1      100328049             4                   77.750000   \n",
       "2      100663626             4                  128.500000   \n",
       "3      100737756             4                   28.692308   \n",
       "\n",
       "   diff_time_stat_1_lb_4weeks  diff_time_stat_2_lb_4weeks  \\\n",
       "0                   48.500000                       399.0   \n",
       "1                   71.541509                       356.0   \n",
       "2                   98.500000                       562.0   \n",
       "3                   26.104478                       526.0   \n",
       "\n",
       "   diff_time_stat_3_lb_4weeks  \n",
       "0                       264.0  \n",
       "1                        45.0  \n",
       "2                       305.0  \n",
       "3                       153.0  "
      ]
     },
     "execution_count": 285,
     "metadata": {},
     "output_type": "execute_result"
    }
   ],
   "source": [
    "lb14wk_pd04.head(4)"
   ]
  },
  {
   "cell_type": "code",
   "execution_count": 287,
   "metadata": {},
   "outputs": [],
   "source": [
    "lb14wk_pd04.to_csv(WORK_PATH + \"/results/stats_diff_time_feats_lb4wk.csv\", index = False)"
   ]
  },
  {
   "cell_type": "code",
   "execution_count": null,
   "metadata": {},
   "outputs": [],
   "source": []
  }
 ],
 "metadata": {
  "kernelspec": {
   "display_name": "Python 3",
   "language": "python",
   "name": "python3"
  },
  "language_info": {
   "codemirror_mode": {
    "name": "ipython",
    "version": 3
   },
   "file_extension": ".py",
   "mimetype": "text/x-python",
   "name": "python",
   "nbconvert_exporter": "python",
   "pygments_lexer": "ipython3",
   "version": "3.7.6"
  }
 },
 "nbformat": 4,
 "nbformat_minor": 4
}
