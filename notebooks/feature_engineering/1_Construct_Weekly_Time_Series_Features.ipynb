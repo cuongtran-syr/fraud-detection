{
 "cells": [
  {
   "cell_type": "markdown",
   "metadata": {},
   "source": [
    "(+) This notebook serves to compute intermediate  weekly statistics features. These weekly features will be aggregated later as final features for modeling steps. \n",
    "(++) The dataset covered transaction in 2016 consists of 52 weeks, so we compute basic statistics for each week among these weeks\n"
   ]
  },
  {
   "cell_type": "code",
   "execution_count": 3,
   "metadata": {},
   "outputs": [
    {
     "name": "stdout",
     "output_type": "stream",
     "text": [
      "['transactionDateTime', 'merchantName', 'posEntryMode', 'posConditionCode', 'merchantCategoryCode', 'currentExpDate', 'accountOpenDate', 'dateOfLastAddressChange', 'transactionType']\n",
      "['accountNumber', 'customerId', 'creditLimit', 'availableMoney', 'transactionAmount', 'cardCVV', 'enteredCVV', 'cardLast4Digits', 'currentBalance', 'cardPresent', 'isFraud']\n"
     ]
    }
   ],
   "source": [
    "import numpy as np\n",
    "import pickle \n",
    "import pandas as pd\n",
    "\n",
    "import datetime\n",
    "WORK_PATH = \"/Users/welcome/Google Drive (cuong.tranus@gmail.com)/research/internship/fraud-detection\"\n",
    "feat_dict = pickle.load(open(WORK_PATH + \"/results/features_category.pkl\" ,\"rb\"))\n",
    "\n",
    "numeric_cols = feat_dict['numeric_cols']\n",
    "cat_cols = feat_dict['cat_cols']\n",
    "\n",
    "print(cat_cols)\n",
    "print(numeric_cols)"
   ]
  },
  {
   "cell_type": "code",
   "execution_count": 5,
   "metadata": {},
   "outputs": [
    {
     "name": "stdout",
     "output_type": "stream",
     "text": [
      "(786363, 26)\n"
     ]
    }
   ],
   "source": [
    "pd00 = pd.read_csv(WORK_PATH + \"/data/processed_data.csv\")\n",
    "print(pd00.shape)"
   ]
  },
  {
   "cell_type": "code",
   "execution_count": 29,
   "metadata": {},
   "outputs": [
    {
     "data": {
      "text/plain": [
       "PURCHASE                745193\n",
       "REVERSAL                 20303\n",
       "ADDRESS_VERIFICATION     20169\n",
       "Name: transactionType, dtype: int64"
      ]
     },
     "execution_count": 29,
     "metadata": {},
     "output_type": "execute_result"
    }
   ],
   "source": [
    "pd00['transactionType'].value_counts()"
   ]
  },
  {
   "cell_type": "code",
   "execution_count": 11,
   "metadata": {},
   "outputs": [
    {
     "name": "stdout",
     "output_type": "stream",
     "text": [
      "0\n",
      "52\n",
      "1\n"
     ]
    }
   ],
   "source": [
    "## Extract date info\n",
    "def get_week(date):\n",
    "    \"\"\"\n",
    "    get week number based on date\n",
    "    return an integer number between 0 and 51\n",
    "    \"\"\"\n",
    "    y,m, d = date.split(\"-\")\n",
    "    week = datetime.date(int(y), int(m), int(d)).isocalendar()[1]\n",
    "    if week >52:\n",
    "        # for some reasons get_week('2016-01-01') return 53 but not zero \n",
    "        return 0\n",
    "    else:\n",
    "        return week\n",
    "\n",
    "print(get_week('2016-01-01'))\n",
    "print(get_week('2016-12-31'))\n",
    "print(get_week('2016-01-07'))\n",
    "\n",
    "pd00['date'] = pd00['transactionDateTime'].apply(lambda x: x.split(\"T\")[0]).astype(str)\n",
    "pd00['week'] = pd00['date'].apply(get_week)\n"
   ]
  },
  {
   "cell_type": "markdown",
   "metadata": {},
   "source": [
    "### I. Intermediate weekly features for numetric columns"
   ]
  },
  {
   "cell_type": "code",
   "execution_count": 30,
   "metadata": {},
   "outputs": [],
   "source": [
    "agg_func = {col :[np.sum, np.min, np.max] for col in ['creditLimit','availableMoney','transactionAmount','currentBalance']}\n",
    "agg_func['customerId']= np.size\n",
    "pd01 = pd00.groupby(['accountNumber','week']).agg(agg_func).reset_index()\n"
   ]
  },
  {
   "cell_type": "code",
   "execution_count": 31,
   "metadata": {},
   "outputs": [
    {
     "data": {
      "text/html": [
       "<div>\n",
       "<style scoped>\n",
       "    .dataframe tbody tr th:only-of-type {\n",
       "        vertical-align: middle;\n",
       "    }\n",
       "\n",
       "    .dataframe tbody tr th {\n",
       "        vertical-align: top;\n",
       "    }\n",
       "\n",
       "    .dataframe thead tr th {\n",
       "        text-align: left;\n",
       "    }\n",
       "</style>\n",
       "<table border=\"1\" class=\"dataframe\">\n",
       "  <thead>\n",
       "    <tr>\n",
       "      <th></th>\n",
       "      <th>accountNumber</th>\n",
       "      <th>week</th>\n",
       "      <th colspan=\"3\" halign=\"left\">creditLimit</th>\n",
       "      <th colspan=\"3\" halign=\"left\">availableMoney</th>\n",
       "      <th colspan=\"3\" halign=\"left\">transactionAmount</th>\n",
       "      <th colspan=\"3\" halign=\"left\">currentBalance</th>\n",
       "      <th>customerId</th>\n",
       "    </tr>\n",
       "    <tr>\n",
       "      <th></th>\n",
       "      <th></th>\n",
       "      <th></th>\n",
       "      <th>sum</th>\n",
       "      <th>amin</th>\n",
       "      <th>amax</th>\n",
       "      <th>sum</th>\n",
       "      <th>amin</th>\n",
       "      <th>amax</th>\n",
       "      <th>sum</th>\n",
       "      <th>amin</th>\n",
       "      <th>amax</th>\n",
       "      <th>sum</th>\n",
       "      <th>amin</th>\n",
       "      <th>amax</th>\n",
       "      <th>size</th>\n",
       "    </tr>\n",
       "  </thead>\n",
       "  <tbody>\n",
       "    <tr>\n",
       "      <th>0</th>\n",
       "      <td>100088067</td>\n",
       "      <td>2</td>\n",
       "      <td>150000</td>\n",
       "      <td>50000</td>\n",
       "      <td>50000</td>\n",
       "      <td>149543.31</td>\n",
       "      <td>49748.44</td>\n",
       "      <td>50000.0</td>\n",
       "      <td>630.23</td>\n",
       "      <td>46.43</td>\n",
       "      <td>378.67</td>\n",
       "      <td>456.69</td>\n",
       "      <td>0.0</td>\n",
       "      <td>251.56</td>\n",
       "      <td>3</td>\n",
       "    </tr>\n",
       "    <tr>\n",
       "      <th>1</th>\n",
       "      <td>100088067</td>\n",
       "      <td>5</td>\n",
       "      <td>100000</td>\n",
       "      <td>50000</td>\n",
       "      <td>50000</td>\n",
       "      <td>99933.93</td>\n",
       "      <td>49933.93</td>\n",
       "      <td>50000.0</td>\n",
       "      <td>207.67</td>\n",
       "      <td>66.07</td>\n",
       "      <td>141.60</td>\n",
       "      <td>66.07</td>\n",
       "      <td>0.0</td>\n",
       "      <td>66.07</td>\n",
       "      <td>2</td>\n",
       "    </tr>\n",
       "  </tbody>\n",
       "</table>\n",
       "</div>"
      ],
      "text/plain": [
       "  accountNumber week creditLimit               availableMoney            \\\n",
       "                             sum   amin   amax            sum      amin   \n",
       "0     100088067    2      150000  50000  50000      149543.31  49748.44   \n",
       "1     100088067    5      100000  50000  50000       99933.93  49933.93   \n",
       "\n",
       "           transactionAmount                currentBalance               \\\n",
       "      amax               sum   amin    amax            sum amin    amax   \n",
       "0  50000.0            630.23  46.43  378.67         456.69  0.0  251.56   \n",
       "1  50000.0            207.67  66.07  141.60          66.07  0.0   66.07   \n",
       "\n",
       "  customerId  \n",
       "        size  \n",
       "0          3  \n",
       "1          2  "
      ]
     },
     "execution_count": 31,
     "metadata": {},
     "output_type": "execute_result"
    }
   ],
   "source": [
    "pd01.head(2)"
   ]
  },
  {
   "cell_type": "code",
   "execution_count": 32,
   "metadata": {},
   "outputs": [
    {
     "data": {
      "text/html": [
       "<div>\n",
       "<style scoped>\n",
       "    .dataframe tbody tr th:only-of-type {\n",
       "        vertical-align: middle;\n",
       "    }\n",
       "\n",
       "    .dataframe tbody tr th {\n",
       "        vertical-align: top;\n",
       "    }\n",
       "\n",
       "    .dataframe thead th {\n",
       "        text-align: right;\n",
       "    }\n",
       "</style>\n",
       "<table border=\"1\" class=\"dataframe\">\n",
       "  <thead>\n",
       "    <tr style=\"text-align: right;\">\n",
       "      <th></th>\n",
       "      <th>accountNumber</th>\n",
       "      <th>week</th>\n",
       "      <th>creditLimit_sum</th>\n",
       "      <th>creditLimit_amin</th>\n",
       "      <th>creditLimit_amax</th>\n",
       "      <th>availableMoney_sum</th>\n",
       "      <th>availableMoney_amin</th>\n",
       "      <th>availableMoney_amax</th>\n",
       "      <th>transactionAmount_sum</th>\n",
       "      <th>transactionAmount_amin</th>\n",
       "      <th>transactionAmount_amax</th>\n",
       "      <th>currentBalance_sum</th>\n",
       "      <th>currentBalance_amin</th>\n",
       "      <th>currentBalance_amax</th>\n",
       "      <th>num_trans</th>\n",
       "    </tr>\n",
       "  </thead>\n",
       "  <tbody>\n",
       "    <tr>\n",
       "      <th>0</th>\n",
       "      <td>100088067</td>\n",
       "      <td>2</td>\n",
       "      <td>150000</td>\n",
       "      <td>50000</td>\n",
       "      <td>50000</td>\n",
       "      <td>149543.31</td>\n",
       "      <td>49748.44</td>\n",
       "      <td>50000.0</td>\n",
       "      <td>630.23</td>\n",
       "      <td>46.43</td>\n",
       "      <td>378.67</td>\n",
       "      <td>456.69</td>\n",
       "      <td>0.0</td>\n",
       "      <td>251.56</td>\n",
       "      <td>3</td>\n",
       "    </tr>\n",
       "    <tr>\n",
       "      <th>1</th>\n",
       "      <td>100088067</td>\n",
       "      <td>5</td>\n",
       "      <td>100000</td>\n",
       "      <td>50000</td>\n",
       "      <td>50000</td>\n",
       "      <td>99933.93</td>\n",
       "      <td>49933.93</td>\n",
       "      <td>50000.0</td>\n",
       "      <td>207.67</td>\n",
       "      <td>66.07</td>\n",
       "      <td>141.60</td>\n",
       "      <td>66.07</td>\n",
       "      <td>0.0</td>\n",
       "      <td>66.07</td>\n",
       "      <td>2</td>\n",
       "    </tr>\n",
       "  </tbody>\n",
       "</table>\n",
       "</div>"
      ],
      "text/plain": [
       "   accountNumber  week  creditLimit_sum  creditLimit_amin  creditLimit_amax  \\\n",
       "0      100088067     2           150000             50000             50000   \n",
       "1      100088067     5           100000             50000             50000   \n",
       "\n",
       "   availableMoney_sum  availableMoney_amin  availableMoney_amax  \\\n",
       "0           149543.31             49748.44              50000.0   \n",
       "1            99933.93             49933.93              50000.0   \n",
       "\n",
       "   transactionAmount_sum  transactionAmount_amin  transactionAmount_amax  \\\n",
       "0                 630.23                   46.43                  378.67   \n",
       "1                 207.67                   66.07                  141.60   \n",
       "\n",
       "   currentBalance_sum  currentBalance_amin  currentBalance_amax  num_trans  \n",
       "0              456.69                  0.0               251.56          3  \n",
       "1               66.07                  0.0                66.07          2  "
      ]
     },
     "execution_count": 32,
     "metadata": {},
     "output_type": "execute_result"
    }
   ],
   "source": [
    "pd01.columns = [\"accountNumber\", \"week\"] + [\"_\".join(col) for col in pd01.columns.values[2:-1]] + ['num_trans']\n",
    "pd01.head(2)"
   ]
  },
  {
   "cell_type": "code",
   "execution_count": 37,
   "metadata": {},
   "outputs": [],
   "source": [
    "pd_list = []\n",
    "agg_func_lb4w_dict = {}\n",
    "for col in pd01.columns.tolist():\n",
    "    if 'min' in col:\n",
    "        agg_func_lb4w_dict[col] = np.min\n",
    "    elif 'max' in col:\n",
    "        agg_func_lb4w_dict[col] = np.max\n",
    "    elif 'sum' in col or 'num_trans' in col: \n",
    "        agg_func_lb4w_dict[col] = np.sum\n",
    "        \n",
    "        "
   ]
  },
  {
   "cell_type": "code",
   "execution_count": 44,
   "metadata": {},
   "outputs": [],
   "source": [
    "pd_list = []\n",
    "for week in range(4,52):\n",
    "    temp_pd = pd01[(pd01['week']>=week-4) & (pd01['week']<=week-1)]\n",
    "    group_pd = temp_pd.groupby('accountNumber').agg(agg_func_lb4w_dict).reset_index()\n",
    "    group_pd['week'] = week\n",
    "    pd_list.append(group_pd)\n",
    "    "
   ]
  },
  {
   "cell_type": "code",
   "execution_count": 45,
   "metadata": {},
   "outputs": [
    {
     "data": {
      "text/html": [
       "<div>\n",
       "<style scoped>\n",
       "    .dataframe tbody tr th:only-of-type {\n",
       "        vertical-align: middle;\n",
       "    }\n",
       "\n",
       "    .dataframe tbody tr th {\n",
       "        vertical-align: top;\n",
       "    }\n",
       "\n",
       "    .dataframe thead th {\n",
       "        text-align: right;\n",
       "    }\n",
       "</style>\n",
       "<table border=\"1\" class=\"dataframe\">\n",
       "  <thead>\n",
       "    <tr style=\"text-align: right;\">\n",
       "      <th></th>\n",
       "      <th>accountNumber</th>\n",
       "      <th>creditLimit_sum</th>\n",
       "      <th>creditLimit_amin</th>\n",
       "      <th>creditLimit_amax</th>\n",
       "      <th>availableMoney_sum</th>\n",
       "      <th>availableMoney_amin</th>\n",
       "      <th>availableMoney_amax</th>\n",
       "      <th>transactionAmount_sum</th>\n",
       "      <th>transactionAmount_amin</th>\n",
       "      <th>transactionAmount_amax</th>\n",
       "      <th>currentBalance_sum</th>\n",
       "      <th>currentBalance_amin</th>\n",
       "      <th>currentBalance_amax</th>\n",
       "      <th>num_trans</th>\n",
       "      <th>week</th>\n",
       "    </tr>\n",
       "  </thead>\n",
       "  <tbody>\n",
       "    <tr>\n",
       "      <th>0</th>\n",
       "      <td>100088067</td>\n",
       "      <td>150000</td>\n",
       "      <td>50000</td>\n",
       "      <td>50000</td>\n",
       "      <td>149543.31</td>\n",
       "      <td>49748.44</td>\n",
       "      <td>50000.0</td>\n",
       "      <td>630.23</td>\n",
       "      <td>46.43</td>\n",
       "      <td>378.67</td>\n",
       "      <td>456.69</td>\n",
       "      <td>0.0</td>\n",
       "      <td>251.56</td>\n",
       "      <td>3</td>\n",
       "      <td>4</td>\n",
       "    </tr>\n",
       "    <tr>\n",
       "      <th>1</th>\n",
       "      <td>100328049</td>\n",
       "      <td>25000</td>\n",
       "      <td>5000</td>\n",
       "      <td>5000</td>\n",
       "      <td>24144.81</td>\n",
       "      <td>4605.10</td>\n",
       "      <td>5000.0</td>\n",
       "      <td>438.64</td>\n",
       "      <td>0.00</td>\n",
       "      <td>242.03</td>\n",
       "      <td>855.19</td>\n",
       "      <td>0.0</td>\n",
       "      <td>394.90</td>\n",
       "      <td>5</td>\n",
       "      <td>4</td>\n",
       "    </tr>\n",
       "    <tr>\n",
       "      <th>2</th>\n",
       "      <td>100663626</td>\n",
       "      <td>60000</td>\n",
       "      <td>20000</td>\n",
       "      <td>20000</td>\n",
       "      <td>59806.53</td>\n",
       "      <td>19822.85</td>\n",
       "      <td>20000.0</td>\n",
       "      <td>223.91</td>\n",
       "      <td>16.32</td>\n",
       "      <td>160.83</td>\n",
       "      <td>193.47</td>\n",
       "      <td>0.0</td>\n",
       "      <td>177.15</td>\n",
       "      <td>3</td>\n",
       "      <td>4</td>\n",
       "    </tr>\n",
       "    <tr>\n",
       "      <th>3</th>\n",
       "      <td>100737756</td>\n",
       "      <td>3500</td>\n",
       "      <td>250</td>\n",
       "      <td>250</td>\n",
       "      <td>-284.62</td>\n",
       "      <td>-535.03</td>\n",
       "      <td>250.0</td>\n",
       "      <td>4470.98</td>\n",
       "      <td>0.00</td>\n",
       "      <td>693.50</td>\n",
       "      <td>3784.62</td>\n",
       "      <td>0.0</td>\n",
       "      <td>785.03</td>\n",
       "      <td>14</td>\n",
       "      <td>4</td>\n",
       "    </tr>\n",
       "  </tbody>\n",
       "</table>\n",
       "</div>"
      ],
      "text/plain": [
       "   accountNumber  creditLimit_sum  creditLimit_amin  creditLimit_amax  \\\n",
       "0      100088067           150000             50000             50000   \n",
       "1      100328049            25000              5000              5000   \n",
       "2      100663626            60000             20000             20000   \n",
       "3      100737756             3500               250               250   \n",
       "\n",
       "   availableMoney_sum  availableMoney_amin  availableMoney_amax  \\\n",
       "0           149543.31             49748.44              50000.0   \n",
       "1            24144.81              4605.10               5000.0   \n",
       "2            59806.53             19822.85              20000.0   \n",
       "3             -284.62              -535.03                250.0   \n",
       "\n",
       "   transactionAmount_sum  transactionAmount_amin  transactionAmount_amax  \\\n",
       "0                 630.23                   46.43                  378.67   \n",
       "1                 438.64                    0.00                  242.03   \n",
       "2                 223.91                   16.32                  160.83   \n",
       "3                4470.98                    0.00                  693.50   \n",
       "\n",
       "   currentBalance_sum  currentBalance_amin  currentBalance_amax  num_trans  \\\n",
       "0              456.69                  0.0               251.56          3   \n",
       "1              855.19                  0.0               394.90          5   \n",
       "2              193.47                  0.0               177.15          3   \n",
       "3             3784.62                  0.0               785.03         14   \n",
       "\n",
       "   week  \n",
       "0     4  \n",
       "1     4  \n",
       "2     4  \n",
       "3     4  "
      ]
     },
     "execution_count": 45,
     "metadata": {},
     "output_type": "execute_result"
    }
   ],
   "source": [
    "pd02 = pd.concat(pd_list)\n",
    "pd02.head(4)"
   ]
  },
  {
   "cell_type": "code",
   "execution_count": null,
   "metadata": {},
   "outputs": [],
   "source": []
  },
  {
   "cell_type": "markdown",
   "metadata": {},
   "source": [
    "### II. Intermediate categorical features"
   ]
  },
  {
   "cell_type": "code",
   "execution_count": null,
   "metadata": {},
   "outputs": [],
   "source": []
  }
 ],
 "metadata": {
  "kernelspec": {
   "display_name": "Python 3",
   "language": "python",
   "name": "python3"
  },
  "language_info": {
   "codemirror_mode": {
    "name": "ipython",
    "version": 3
   },
   "file_extension": ".py",
   "mimetype": "text/x-python",
   "name": "python",
   "nbconvert_exporter": "python",
   "pygments_lexer": "ipython3",
   "version": "3.7.6"
  }
 },
 "nbformat": 4,
 "nbformat_minor": 4
}
