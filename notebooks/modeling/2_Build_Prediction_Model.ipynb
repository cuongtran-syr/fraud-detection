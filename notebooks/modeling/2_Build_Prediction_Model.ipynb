{
 "cells": [
  {
   "cell_type": "code",
   "execution_count": 5,
   "metadata": {},
   "outputs": [
    {
     "name": "stdout",
     "output_type": "stream",
     "text": [
      "['merchantName', 'posEntryMode', 'posConditionCode', 'merchantCategoryCode']\n",
      "['accountNumber', 'customerId', 'creditLimit', 'availableMoney', 'transactionAmount', 'cardCVV', 'enteredCVV', 'cardLast4Digits', 'currentBalance', 'cardPresent', 'isFraud']\n"
     ]
    }
   ],
   "source": [
    "import xgboost as xgb\n",
    "import numpy as np\n",
    "import os \n",
    "from pathlib import Path\n",
    "import pickle \n",
    "import pandas as pd\n",
    "from sklearn.metrics import roc_auc_score\n",
    "import datetime\n",
    "WORK_PATH = str(Path( os.path.abspath('')).parent.parent)\n",
    "feat_dict = pickle.load(open(WORK_PATH + \"/results/features_category.pkl\" ,\"rb\"))\n",
    "\n",
    "numeric_cols = feat_dict['numeric_cols']\n",
    "cat_cols = feat_dict['cat_cols']\n",
    "\n",
    "print(cat_cols)\n",
    "print(numeric_cols)\n"
   ]
  },
  {
   "cell_type": "code",
   "execution_count": 6,
   "metadata": {},
   "outputs": [
    {
     "name": "stdout",
     "output_type": "stream",
     "text": [
      "(786363, 26)\n"
     ]
    }
   ],
   "source": [
    "# Load processed Dataset which unnessary columns are deleted \n",
    "# the processed data has the same number of rows, but with smaller number of columns\n",
    "pd00 = pd.read_csv(WORK_PATH + \"/data/processed_data.csv\")\n",
    "print(pd00.shape)"
   ]
  },
  {
   "cell_type": "code",
   "execution_count": 7,
   "metadata": {},
   "outputs": [
    {
     "name": "stdout",
     "output_type": "stream",
     "text": [
      "0\n",
      "52\n",
      "1\n"
     ]
    }
   ],
   "source": [
    "## Extract date info\n",
    "def get_week_in_year(date):\n",
    "    \"\"\"\n",
    "    get week number  in which the transaction happens based on date\n",
    "    return an integer number between 0 and 51\n",
    "    \"\"\"\n",
    "    y,m, d = date.split(\"-\")\n",
    "    week = datetime.date(int(y), int(m), int(d)).isocalendar()[1]\n",
    "    if week >52:\n",
    "        # for some reasons get_week('2016-01-01') return 53 but not zero \n",
    "        return 0\n",
    "    else:\n",
    "        return week\n",
    "        \n",
    "print(get_week_in_year('2016-01-01'))\n",
    "print(get_week_in_year('2016-12-31'))\n",
    "print(get_week_in_year('2016-01-07'))\n",
    "\n",
    "pd00['date'] = pd00['transactionDateTime'].apply(lambda x: x.split(\"T\")[0]).astype(str)\n",
    "pd00['week_in_year'] = pd00['date'].apply(get_week_in_year)"
   ]
  },
  {
   "cell_type": "markdown",
   "metadata": {},
   "source": [
    "### Part I. Construct basic features based on current transaction"
   ]
  },
  {
   "cell_type": "code",
   "execution_count": 8,
   "metadata": {},
   "outputs": [],
   "source": [
    "# First perform one-hot encoding for  two categorical features merchantCategoryCode and posEntryMode\n",
    "freq_items = pd00['merchantCategoryCode'].value_counts().index.tolist()[:15]\n",
    "def relabel(x):\n",
    "    if x in freq_items:\n",
    "        return x\n",
    "    else:\n",
    "        return 'other'\n",
    "pd00['merchantCategoryCode'] = pd00['merchantCategoryCode'].apply(relabel )\n",
    "pd00 = pd.get_dummies(pd00,  columns =  ['merchantCategoryCode'] )\n",
    "pd00 = pd.get_dummies(pd00,  columns =  ['posEntryMode'] )\n"
   ]
  },
  {
   "cell_type": "code",
   "execution_count": 9,
   "metadata": {},
   "outputs": [],
   "source": [
    "basic_feats = ['creditLimit', 'availableMoney', 'transactionAmount','cardPresent']  + \\\n",
    "               [col for col in pd00.columns.tolist() if \"posEntryMode\" in col or \"merchantCategoryCode\" in col ] "
   ]
  },
  {
   "cell_type": "code",
   "execution_count": 10,
   "metadata": {},
   "outputs": [
    {
     "name": "stdout",
     "output_type": "stream",
     "text": [
      "(624515, 46) 2016-03-21\n"
     ]
    }
   ],
   "source": [
    "pd00 = pd00[pd00['week_in_year']>=12]\n",
    "print(pd00.shape, pd00['date'].min())"
   ]
  },
  {
   "cell_type": "markdown",
   "metadata": {},
   "source": [
    "### Part II. Load pre-computed time series  features"
   ]
  },
  {
   "cell_type": "code",
   "execution_count": 11,
   "metadata": {},
   "outputs": [
    {
     "name": "stdout",
     "output_type": "stream",
     "text": [
      "(624515, 48)\n",
      "(624515, 50)\n",
      "(624515, 75)\n",
      "(624515, 100)\n",
      "(624515, 104)\n",
      "(624515, 108)\n"
     ]
    }
   ],
   "source": [
    "file_name_list = ['basic_cat_ts_feats_lb4wk.csv', # count distinct merchant name/merchant code prev 4 weeks before week of transaction\n",
    "                  'basic_cat_ts_feats_lb12wk.csv', # same as above but look back 12 weeks\n",
    "                 'basic_num_ts_feats_lb4wk.csv',  # compute max/min/avg of trans amount/balance/credit limit... \n",
    "                  'basic_num_ts_feats_lb12wk.csv',\n",
    "                  'stats_diff_time_feats_lb4wk.csv',# count stats of difference time bw two consecutive transaction of one user\n",
    "                   'stats_diff_time_feats_lb12wk.csv'] \n",
    "\n",
    "\n",
    "for file_name in file_name_list:\n",
    "    new_feat_pd = pd.read_csv(WORK_PATH +'/results/' + file_name)\n",
    "    pd00 = pd.merge(pd00, new_feat_pd, on = ['accountNumber','week_in_year'], how ='left')\n",
    "    print(pd00.shape)\n",
    "\n",
    "    \n",
    "\n"
   ]
  },
  {
   "cell_type": "code",
   "execution_count": 12,
   "metadata": {},
   "outputs": [],
   "source": [
    "new_feats =  [col for col in pd00.columns.tolist() if \"4weeks\" in col or \"12weeks\" in col  ]  # time series feat\n",
    "\n",
    "all_feats = new_feats + basic_feats"
   ]
  },
  {
   "cell_type": "code",
   "execution_count": 13,
   "metadata": {},
   "outputs": [],
   "source": [
    "\n",
    "x_train = pd00[pd00['tvt_code_0']=='train'][all_feats]# in-of-sample from 2016-01 to 2016-10\n",
    "y_train = pd00[pd00['tvt_code_0']=='train']['isFraud']\n",
    "\n",
    "x_val = pd00[pd00['tvt_code_0']=='val'][all_feats] # also in-of-sample from 2016-01 to 2016-10, disjoint with train\n",
    "y_val = pd00[pd00['tvt_code_0']=='val']['isFraud']\n",
    "\n",
    "x_test = pd00[pd00['tvt_code_0']=='test'][all_feats] # out-of-sample from 2016-10 to 2016-12\n",
    "y_test = pd00[pd00['tvt_code_0']=='test']['isFraud']\n",
    "\n"
   ]
  },
  {
   "cell_type": "code",
   "execution_count": 14,
   "metadata": {},
   "outputs": [
    {
     "name": "stdout",
     "output_type": "stream",
     "text": [
      "[0]\tvalidation_0-auc:0.71434\n",
      "Will train until validation_0-auc hasn't improved in 50 rounds.\n",
      "[200]\tvalidation_0-auc:0.79761\n",
      "Stopping. Best iteration:\n",
      "[307]\tvalidation_0-auc:0.80378\n",
      "\n"
     ]
    },
    {
     "data": {
      "text/plain": [
       "XGBClassifier(base_score=0.5, booster='gbtree', colsample_bylevel=1,\n",
       "              colsample_bynode=1, colsample_bytree=0.8, gamma=0, gpu_id=-1,\n",
       "              importance_type='gain', interaction_constraints='',\n",
       "              learning_rate=0.035, max_delta_step=0, max_depth=10,\n",
       "              min_child_weight=5, missing=nan, monotone_constraints='()',\n",
       "              n_estimators=1000, n_jobs=4, nthread=4, num_parallel_tree=1,\n",
       "              random_state=42, reg_alpha=0, reg_lambda=1, scale_pos_weight=1,\n",
       "              seed=42, subsample=0.8, tree_method='exact',\n",
       "              validate_parameters=1, verbosity=None)"
      ]
     },
     "execution_count": 14,
     "metadata": {},
     "output_type": "execute_result"
    }
   ],
   "source": [
    "clf = xgb.XGBClassifier(\n",
    "                max_depth = 10,\n",
    "                n_estimators=1000, # should not too large otherwise overfitting\n",
    "                learning_rate=0.035, # not too small, not too large\n",
    "                nthread=4,\n",
    "                subsample=0.8,\n",
    "                colsample_bytree=0.8,\n",
    "                min_child_weight = 5,\n",
    "                seed=42)\n",
    "\n",
    "clf.fit(x_train, y_train, early_stopping_rounds=50, eval_metric=\"auc\", verbose=200,\n",
    "        eval_set=[(x_val, y_val)])"
   ]
  },
  {
   "cell_type": "code",
   "execution_count": 15,
   "metadata": {},
   "outputs": [
    {
     "data": {
      "text/plain": [
       "0.7728623354981442"
      ]
     },
     "execution_count": 15,
     "metadata": {},
     "output_type": "execute_result"
    }
   ],
   "source": [
    "y_pred = clf.predict_proba(x_test)[:,1]\n",
    "roc_auc_score(y_test, y_pred)"
   ]
  },
  {
   "cell_type": "code",
   "execution_count": 16,
   "metadata": {},
   "outputs": [],
   "source": [
    "import collections\n",
    "feat_imp_dict  = clf.get_booster().get_score(importance_type=\"gain\")\n",
    "feat_imp_dict = sorted(feat_imp_dict.items(), key=lambda kv: kv[1], reverse= True)\n",
    "feat_imp_dict = collections.OrderedDict(feat_imp_dict  )\n",
    "\n"
   ]
  },
  {
   "cell_type": "code",
   "execution_count": 18,
   "metadata": {},
   "outputs": [
    {
     "data": {
      "text/plain": [
       "OrderedDict([('posEntryMode_5.0', 31.63127089915872),\n",
       "             ('cardPresent', 24.132752438018333),\n",
       "             ('posEntryMode_90.0', 11.53332648235294),\n",
       "             ('creditLimit_amax_lb_4weeks', 10.19875669),\n",
       "             ('merchantCategoryCode_entertainment', 10.160546224711084),\n",
       "             ('transactionAmount', 9.834974387250506),\n",
       "             ('merchantCategoryCode_online_gifts', 8.606456994346491),\n",
       "             ('posEntryMode_9.0', 8.575894963022849),\n",
       "             ('merchantCategoryCode_fuel', 8.187713519730542),\n",
       "             ('posEntryMode_80.0', 7.851771985785713),\n",
       "             ('merchantCategoryCode_mobileapps', 7.673508755750002),\n",
       "             ('merchantCategoryCode_online_retail', 7.571619195702294),\n",
       "             ('merchantCategoryCode_health', 7.4594579575364275),\n",
       "             ('merchantCategoryCode_other', 7.216271566847061),\n",
       "             ('merchantCategoryCode_online_subscriptions', 7.215727415052632),\n",
       "             ('creditLimit_mean_lb_4weeks', 7.174981014458333),\n",
       "             ('merchantCategoryCode_personal care', 6.8165027630142845),\n",
       "             ('diff_time_stat_0_lb_12weeks', 6.707299253112102),\n",
       "             ('currentBalance_amax_lb_12weeks', 6.546387213275725),\n",
       "             ('availableMoney_amax_lb_12weeks', 6.483821571965918),\n",
       "             ('merchantCategoryCode_subscriptions', 6.475049815136983),\n",
       "             ('merchantCategoryCode_hotels', 6.180871164169041),\n",
       "             ('customerId_size_lb_12weeks', 6.0188197704636694),\n",
       "             ('merchantCategoryCode_rideshare', 5.928858505286363),\n",
       "             ('availableMoney_amin_lb_12weeks', 5.783871888744441),\n",
       "             ('creditLimit_amin_lb_4weeks', 5.703964531583334),\n",
       "             ('creditLimit_mean_lb_12weeks', 5.587635676666667),\n",
       "             ('availableMoney_amax_lb_4weeks', 5.528325667970435),\n",
       "             ('posEntryMode_2.0', 5.498397207703014),\n",
       "             ('diff_time_stat_1_lb_12weeks', 5.328032586995468),\n",
       "             ('currentBalance_amax_lb_4weeks', 5.282107425576118),\n",
       "             ('currentBalance_amin_lb_12weeks', 5.279271861120039),\n",
       "             ('availableMoney_mean_lb_12weeks', 5.268705484772951),\n",
       "             ('transactionAmount_amax_lb_12weeks', 5.180109000459254),\n",
       "             ('availableMoney_amin_lb_4weeks', 5.1642973172254605),\n",
       "             ('diff_time_stat_0_lb_4weeks', 5.0963307729835545),\n",
       "             ('availableMoney_std_lb_12weeks', 5.061801311722514),\n",
       "             ('customerId_size_lb_4weeks', 4.976906099780277),\n",
       "             ('diff_time_stat_1_lb_4weeks', 4.952598903136427),\n",
       "             ('currentBalance_std_lb_12weeks', 4.9171932196576345),\n",
       "             ('transactionAmount_amin_lb_12weeks', 4.905840140930794),\n",
       "             ('transactionAmount_amax_lb_4weeks', 4.892873392749173),\n",
       "             ('creditLimit_kurt_lb_4weeks', 4.88396072),\n",
       "             ('merchantCategoryCode_fastfood', 4.877694353435252),\n",
       "             ('currentBalance_std_lb_4weeks', 4.877309545617796),\n",
       "             ('availableMoney_std_lb_4weeks', 4.848570589284294),\n",
       "             ('transactionAmount_std_lb_12weeks', 4.8389214201732855),\n",
       "             ('currentBalance_mean_lb_12weeks', 4.828759115103318),\n",
       "             ('merchantCategoryCode_food', 4.772723896700001),\n",
       "             ('availableMoney_mean_lb_4weeks', 4.763850599393665),\n",
       "             ('availableMoney_kurt_lb_12weeks', 4.744000057724474),\n",
       "             ('currentBalance_mean_lb_4weeks', 4.699901970216529),\n",
       "             ('currentBalance_amin_lb_4weeks', 4.649167974673242),\n",
       "             ('transactionAmount_skew_lb_12weeks', 4.62915328700593),\n",
       "             ('transactionAmount_std_lb_4weeks', 4.573817506516381),\n",
       "             ('transactionAmount_amin_lb_4weeks', 4.547350503363856),\n",
       "             ('currentBalance_skew_lb_12weeks', 4.442559377211814),\n",
       "             ('transactionAmount_mean_lb_12weeks', 4.441727333387833),\n",
       "             ('transactionAmount_skew_lb_4weeks', 4.429189755144543),\n",
       "             ('creditLimit_amin_lb_12weeks', 4.4202075),\n",
       "             ('transactionAmount_mean_lb_4weeks', 4.41780188343104),\n",
       "             ('transactionAmount_kurt_lb_12weeks', 4.383782101316116),\n",
       "             ('transactionAmount_kurt_lb_4weeks', 4.382016196438748),\n",
       "             ('availableMoney_skew_lb_4weeks', 4.3463476613687515),\n",
       "             ('diff_time_stat_2_lb_12weeks', 4.333571485945341),\n",
       "             ('diff_time_stat_3_lb_4weeks', 4.321757340031681),\n",
       "             ('currentBalance_kurt_lb_12weeks', 4.248072830534926),\n",
       "             ('availableMoney', 4.244847981684481),\n",
       "             ('currentBalance_kurt_lb_4weeks', 4.2056344165373485),\n",
       "             ('availableMoney_skew_lb_12weeks', 4.200339779873584),\n",
       "             ('currentBalance_skew_lb_4weeks', 4.193236547694679),\n",
       "             ('availableMoney_kurt_lb_4weeks', 4.191353207446954),\n",
       "             ('merchantCategoryCode_airline', 4.140976973087412),\n",
       "             ('diff_time_stat_3_lb_12weeks', 4.135073575941112),\n",
       "             ('diff_time_stat_2_lb_4weeks', 4.001588623144538),\n",
       "             ('merchantCategoryCode_auto', 3.468431352184091),\n",
       "             ('creditLimit', 2.7864053722)])"
      ]
     },
     "execution_count": 18,
     "metadata": {},
     "output_type": "execute_result"
    }
   ],
   "source": [
    "feat_imp_dict"
   ]
  },
  {
   "cell_type": "code",
   "execution_count": null,
   "metadata": {},
   "outputs": [],
   "source": []
  }
 ],
 "metadata": {
  "kernelspec": {
   "display_name": "Python 3",
   "language": "python",
   "name": "python3"
  },
  "language_info": {
   "codemirror_mode": {
    "name": "ipython",
    "version": 3
   },
   "file_extension": ".py",
   "mimetype": "text/x-python",
   "name": "python",
   "nbconvert_exporter": "python",
   "pygments_lexer": "ipython3",
   "version": "3.7.6"
  }
 },
 "nbformat": 4,
 "nbformat_minor": 4
}
