{
 "cells": [
  {
   "cell_type": "code",
   "execution_count": 71,
   "metadata": {},
   "outputs": [
    {
     "name": "stdout",
     "output_type": "stream",
     "text": [
      "['transactionDateTime', 'merchantName', 'posEntryMode', 'posConditionCode', 'merchantCategoryCode', 'currentExpDate', 'accountOpenDate', 'dateOfLastAddressChange', 'transactionType']\n",
      "['accountNumber', 'customerId', 'creditLimit', 'availableMoney', 'transactionAmount', 'cardCVV', 'enteredCVV', 'cardLast4Digits', 'currentBalance', 'cardPresent', 'isFraud']\n"
     ]
    }
   ],
   "source": [
    "import xgboost as xgb\n",
    "import numpy as np\n",
    "import os \n",
    "from pathlib import Path\n",
    "import pickle \n",
    "import pandas as pd\n",
    "from sklearn.metrics import roc_auc_score\n",
    "import datetime\n",
    "WORK_PATH = str(Path( os.path.abspath('')).parent.parent)\n",
    "feat_dict = pickle.load(open(WORK_PATH + \"/results/features_category.pkl\" ,\"rb\"))\n",
    "\n",
    "numeric_cols = feat_dict['numeric_cols']\n",
    "cat_cols = feat_dict['cat_cols']\n",
    "\n",
    "print(cat_cols)\n",
    "print(numeric_cols)\n",
    "\n",
    "clf = xgb.XGBClassifier(\n",
    "                max_depth = 10,\n",
    "                n_estimators=1000, # should not too large otherwise overfitting\n",
    "                learning_rate=0.035, # not too small, not too large\n",
    "                nthread=4,\n",
    "                subsample=0.8,\n",
    "                colsample_bytree=0.8,\n",
    "                min_child_weight = 5,\n",
    "                seed=42)"
   ]
  },
  {
   "cell_type": "code",
   "execution_count": 31,
   "metadata": {},
   "outputs": [
    {
     "name": "stdout",
     "output_type": "stream",
     "text": [
      "(786363, 26)\n"
     ]
    }
   ],
   "source": [
    "pd00 = pd.read_csv(WORK_PATH + \"/data/processed_data.csv\")\n",
    "print(pd00.shape)"
   ]
  },
  {
   "cell_type": "code",
   "execution_count": 43,
   "metadata": {},
   "outputs": [
    {
     "data": {
      "text/html": [
       "<div>\n",
       "<style scoped>\n",
       "    .dataframe tbody tr th:only-of-type {\n",
       "        vertical-align: middle;\n",
       "    }\n",
       "\n",
       "    .dataframe tbody tr th {\n",
       "        vertical-align: top;\n",
       "    }\n",
       "\n",
       "    .dataframe thead th {\n",
       "        text-align: right;\n",
       "    }\n",
       "</style>\n",
       "<table border=\"1\" class=\"dataframe\">\n",
       "  <thead>\n",
       "    <tr style=\"text-align: right;\">\n",
       "      <th></th>\n",
       "      <th>merchantCategoryCode</th>\n",
       "      <th>isFraud</th>\n",
       "    </tr>\n",
       "  </thead>\n",
       "  <tbody>\n",
       "    <tr>\n",
       "      <th>0</th>\n",
       "      <td>airline</td>\n",
       "      <td>0.034648</td>\n",
       "    </tr>\n",
       "    <tr>\n",
       "      <th>1</th>\n",
       "      <td>auto</td>\n",
       "      <td>0.012609</td>\n",
       "    </tr>\n",
       "    <tr>\n",
       "      <th>2</th>\n",
       "      <td>cable/phone</td>\n",
       "      <td>0.000000</td>\n",
       "    </tr>\n",
       "    <tr>\n",
       "      <th>3</th>\n",
       "      <td>entertainment</td>\n",
       "      <td>0.011998</td>\n",
       "    </tr>\n",
       "    <tr>\n",
       "      <th>4</th>\n",
       "      <td>fastfood</td>\n",
       "      <td>0.009577</td>\n",
       "    </tr>\n",
       "    <tr>\n",
       "      <th>5</th>\n",
       "      <td>food</td>\n",
       "      <td>0.013432</td>\n",
       "    </tr>\n",
       "    <tr>\n",
       "      <th>6</th>\n",
       "      <td>food_delivery</td>\n",
       "      <td>0.000000</td>\n",
       "    </tr>\n",
       "    <tr>\n",
       "      <th>7</th>\n",
       "      <td>fuel</td>\n",
       "      <td>0.000000</td>\n",
       "    </tr>\n",
       "    <tr>\n",
       "      <th>8</th>\n",
       "      <td>furniture</td>\n",
       "      <td>0.013859</td>\n",
       "    </tr>\n",
       "    <tr>\n",
       "      <th>9</th>\n",
       "      <td>gym</td>\n",
       "      <td>0.000000</td>\n",
       "    </tr>\n",
       "    <tr>\n",
       "      <th>10</th>\n",
       "      <td>health</td>\n",
       "      <td>0.004714</td>\n",
       "    </tr>\n",
       "    <tr>\n",
       "      <th>11</th>\n",
       "      <td>hotels</td>\n",
       "      <td>0.007332</td>\n",
       "    </tr>\n",
       "    <tr>\n",
       "      <th>12</th>\n",
       "      <td>mobileapps</td>\n",
       "      <td>0.000000</td>\n",
       "    </tr>\n",
       "    <tr>\n",
       "      <th>13</th>\n",
       "      <td>online_gifts</td>\n",
       "      <td>0.024246</td>\n",
       "    </tr>\n",
       "    <tr>\n",
       "      <th>14</th>\n",
       "      <td>online_retail</td>\n",
       "      <td>0.024427</td>\n",
       "    </tr>\n",
       "    <tr>\n",
       "      <th>15</th>\n",
       "      <td>online_subscriptions</td>\n",
       "      <td>0.000000</td>\n",
       "    </tr>\n",
       "    <tr>\n",
       "      <th>16</th>\n",
       "      <td>personal care</td>\n",
       "      <td>0.004535</td>\n",
       "    </tr>\n",
       "    <tr>\n",
       "      <th>17</th>\n",
       "      <td>rideshare</td>\n",
       "      <td>0.024875</td>\n",
       "    </tr>\n",
       "    <tr>\n",
       "      <th>18</th>\n",
       "      <td>subscriptions</td>\n",
       "      <td>0.009432</td>\n",
       "    </tr>\n",
       "  </tbody>\n",
       "</table>\n",
       "</div>"
      ],
      "text/plain": [
       "    merchantCategoryCode   isFraud\n",
       "0                airline  0.034648\n",
       "1                   auto  0.012609\n",
       "2            cable/phone  0.000000\n",
       "3          entertainment  0.011998\n",
       "4               fastfood  0.009577\n",
       "5                   food  0.013432\n",
       "6          food_delivery  0.000000\n",
       "7                   fuel  0.000000\n",
       "8              furniture  0.013859\n",
       "9                    gym  0.000000\n",
       "10                health  0.004714\n",
       "11                hotels  0.007332\n",
       "12            mobileapps  0.000000\n",
       "13          online_gifts  0.024246\n",
       "14         online_retail  0.024427\n",
       "15  online_subscriptions  0.000000\n",
       "16         personal care  0.004535\n",
       "17             rideshare  0.024875\n",
       "18         subscriptions  0.009432"
      ]
     },
     "execution_count": 43,
     "metadata": {},
     "output_type": "execute_result"
    }
   ],
   "source": [
    "pd00.groupby('merchantCategoryCode').agg({'isFraud':np.mean}).reset_index()"
   ]
  },
  {
   "cell_type": "code",
   "execution_count": 49,
   "metadata": {},
   "outputs": [
    {
     "data": {
      "text/plain": [
       "'online_retail'"
      ]
     },
     "execution_count": 49,
     "metadata": {},
     "output_type": "execute_result"
    }
   ],
   "source": [
    "from collections import Counter\n",
    "val = Counter(pd00['merchantCategoryCode'].tolist()).most_common(1)[0][0]\n",
    "val"
   ]
  },
  {
   "cell_type": "code",
   "execution_count": 54,
   "metadata": {},
   "outputs": [],
   "source": [
    "freq_items = pd00['merchantCategoryCode'].value_counts().index.tolist()[:15]\n",
    "def relabel(x):\n",
    "    if x in freq_items:\n",
    "        return x\n",
    "    else:\n",
    "        return 'other'\n",
    "pd00['merchantCategoryCode'] = pd00['merchantCategoryCode'].apply(relabel )\n",
    "pd00 = pd.get_dummies(pd00,  columns =  ['merchantCategoryCode'] )"
   ]
  },
  {
   "cell_type": "code",
   "execution_count": null,
   "metadata": {},
   "outputs": [],
   "source": []
  },
  {
   "cell_type": "code",
   "execution_count": 35,
   "metadata": {},
   "outputs": [
    {
     "data": {
      "text/plain": [
       "['accountNumber',\n",
       " 'customerId',\n",
       " 'creditLimit',\n",
       " 'availableMoney',\n",
       " 'transactionDateTime',\n",
       " 'transactionAmount',\n",
       " 'merchantName',\n",
       " 'posConditionCode',\n",
       " 'merchantCategoryCode',\n",
       " 'currentExpDate',\n",
       " 'accountOpenDate',\n",
       " 'dateOfLastAddressChange',\n",
       " 'cardCVV',\n",
       " 'enteredCVV',\n",
       " 'cardLast4Digits',\n",
       " 'transactionType',\n",
       " 'currentBalance',\n",
       " 'cardPresent',\n",
       " 'isFraud',\n",
       " 'date',\n",
       " 'tvt_code_0',\n",
       " 'tvt_code_1',\n",
       " 'tvt_code_2',\n",
       " 'tvt_code_3',\n",
       " 'tvt_code_4',\n",
       " 'posEntryMode_2.0',\n",
       " 'posEntryMode_5.0',\n",
       " 'posEntryMode_9.0',\n",
       " 'posEntryMode_80.0',\n",
       " 'posEntryMode_90.0']"
      ]
     },
     "execution_count": 35,
     "metadata": {},
     "output_type": "execute_result"
    }
   ],
   "source": [
    "pd00 = pd.get_dummies(pd00,  columns =  ['posEntryMode'] )\n",
    "pd00.columns.tolist()"
   ]
  },
  {
   "cell_type": "code",
   "execution_count": null,
   "metadata": {},
   "outputs": [],
   "source": []
  },
  {
   "cell_type": "code",
   "execution_count": 55,
   "metadata": {},
   "outputs": [],
   "source": [
    "new_feats =  [col for col in pd00.columns.tolist() if \"posEntryMode\" in col or \"merchantCategoryCode\" in col ] \n",
    "feats = ['creditLimit', 'availableMoney', 'transactionAmount','cardPresent'] \n",
    "all_feats = new_feats + feats\n",
    "x_train = pd00[pd00['tvt_code_0']=='train_0'][all_feats]\n",
    "y_train = pd00[pd00['tvt_code_0']=='train_0']['isFraud']\n",
    "\n",
    "x_val = pd00[pd00['tvt_code_0']=='val_0'][all_feats]\n",
    "y_val = pd00[pd00['tvt_code_0']=='val_0']['isFraud']\n",
    "\n",
    "x_test = pd00[pd00['tvt_code_0']=='test'][all_feats]\n",
    "y_test = pd00[pd00['tvt_code_0']=='test']['isFraud']\n",
    "\n"
   ]
  },
  {
   "cell_type": "code",
   "execution_count": 58,
   "metadata": {},
   "outputs": [
    {
     "name": "stdout",
     "output_type": "stream",
     "text": [
      "[0]\tvalidation_0-auc:0.71063\n",
      "Will train until validation_0-auc hasn't improved in 50 rounds.\n",
      "[200]\tvalidation_0-auc:0.77948\n",
      "Stopping. Best iteration:\n",
      "[315]\tvalidation_0-auc:0.78055\n",
      "\n"
     ]
    },
    {
     "data": {
      "text/plain": [
       "XGBClassifier(base_score=0.5, booster='gbtree', colsample_bylevel=1,\n",
       "              colsample_bynode=1, colsample_bytree=0.8, gamma=0, gpu_id=-1,\n",
       "              importance_type='gain', interaction_constraints='',\n",
       "              learning_rate=0.035, max_delta_step=0, max_depth=10,\n",
       "              min_child_weight=5, missing=nan, monotone_constraints='()',\n",
       "              n_estimators=1000, n_jobs=4, nthread=4, num_parallel_tree=1,\n",
       "              random_state=42, reg_alpha=0, reg_lambda=1, scale_pos_weight=1,\n",
       "              seed=42, subsample=0.8, tree_method='exact',\n",
       "              validate_parameters=1, verbosity=None)"
      ]
     },
     "execution_count": 58,
     "metadata": {},
     "output_type": "execute_result"
    }
   ],
   "source": [
    "clf.fit(x_train, y_train, early_stopping_rounds=50, eval_metric=\"auc\", verbose=200,\n",
    "        eval_set=[(x_val, y_val)])"
   ]
  },
  {
   "cell_type": "code",
   "execution_count": 59,
   "metadata": {},
   "outputs": [
    {
     "data": {
      "text/plain": [
       "0.7788256646924123"
      ]
     },
     "execution_count": 59,
     "metadata": {},
     "output_type": "execute_result"
    }
   ],
   "source": [
    "y_pred = clf.predict_proba(x_test)[:,1]\n",
    "roc_auc_score(y_test, y_pred)"
   ]
  },
  {
   "cell_type": "code",
   "execution_count": null,
   "metadata": {},
   "outputs": [],
   "source": []
  }
 ],
 "metadata": {
  "kernelspec": {
   "display_name": "Python 3",
   "language": "python",
   "name": "python3"
  },
  "language_info": {
   "codemirror_mode": {
    "name": "ipython",
    "version": 3
   },
   "file_extension": ".py",
   "mimetype": "text/x-python",
   "name": "python",
   "nbconvert_exporter": "python",
   "pygments_lexer": "ipython3",
   "version": "3.7.6"
  }
 },
 "nbformat": 4,
 "nbformat_minor": 4
}
